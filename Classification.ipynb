{
  "nbformat": 4,
  "nbformat_minor": 0,
  "metadata": {
    "kernelspec": {
      "display_name": "Python 3",
      "language": "python",
      "name": "python3"
    },
    "language_info": {
      "codemirror_mode": {
        "name": "ipython",
        "version": 3
      },
      "file_extension": ".py",
      "mimetype": "text/x-python",
      "name": "python",
      "nbconvert_exporter": "python",
      "pygments_lexer": "ipython3",
      "version": "3.6.8"
    },
    "colab": {
      "name": "Classification.ipynb",
      "provenance": [],
      "toc_visible": true,
      "include_colab_link": true
    }
  },
  "cells": [
    {
      "cell_type": "markdown",
      "metadata": {
        "id": "view-in-github",
        "colab_type": "text"
      },
      "source": [
        "<a href=\"https://colab.research.google.com/github/ThiagoMartinsThome/Time_Series/blob/master/Classification.ipynb\" target=\"_parent\"><img src=\"https://colab.research.google.com/assets/colab-badge.svg\" alt=\"Open In Colab\"/></a>"
      ]
    },
    {
      "cell_type": "code",
      "metadata": {
        "id": "EfIs1Im4yIvD",
        "colab_type": "code",
        "colab": {}
      },
      "source": [
        "from google.colab import output\n",
        "!pip install cesium\n",
        "output.clear()"
      ],
      "execution_count": 0,
      "outputs": []
    },
    {
      "cell_type": "code",
      "metadata": {
        "id": "RDyJs5M4yo2g",
        "colab_type": "code",
        "colab": {
          "base_uri": "https://localhost:8080/",
          "height": 119
        },
        "outputId": "29785ab2-b779-4e36-d7d2-64391505de7a"
      },
      "source": [
        "!git clone 'https://github.com/PracticalTimeSeriesAnalysis/BookRepo'"
      ],
      "execution_count": 18,
      "outputs": [
        {
          "output_type": "stream",
          "text": [
            "Cloning into 'BookRepo'...\n",
            "remote: Enumerating objects: 60, done.\u001b[K\n",
            "remote: Counting objects:   1% (1/60)\u001b[K\rremote: Counting objects:   3% (2/60)\u001b[K\rremote: Counting objects:   5% (3/60)\u001b[K\rremote: Counting objects:   6% (4/60)\u001b[K\rremote: Counting objects:   8% (5/60)\u001b[K\rremote: Counting objects:  10% (6/60)\u001b[K\rremote: Counting objects:  11% (7/60)\u001b[K\rremote: Counting objects:  13% (8/60)\u001b[K\rremote: Counting objects:  15% (9/60)\u001b[K\rremote: Counting objects:  16% (10/60)\u001b[K\rremote: Counting objects:  18% (11/60)\u001b[K\rremote: Counting objects:  20% (12/60)\u001b[K\rremote: Counting objects:  21% (13/60)\u001b[K\rremote: Counting objects:  23% (14/60)\u001b[K\rremote: Counting objects:  25% (15/60)\u001b[K\rremote: Counting objects:  26% (16/60)\u001b[K\rremote: Counting objects:  28% (17/60)\u001b[K\rremote: Counting objects:  30% (18/60)\u001b[K\rremote: Counting objects:  31% (19/60)\u001b[K\rremote: Counting objects:  33% (20/60)\u001b[K\rremote: Counting objects:  35% (21/60)\u001b[K\rremote: Counting objects:  36% (22/60)\u001b[K\rremote: Counting objects:  38% (23/60)\u001b[K\rremote: Counting objects:  40% (24/60)\u001b[K\rremote: Counting objects:  41% (25/60)\u001b[K\rremote: Counting objects:  43% (26/60)\u001b[K\rremote: Counting objects:  45% (27/60)\u001b[K\rremote: Counting objects:  46% (28/60)\u001b[K\rremote: Counting objects:  48% (29/60)\u001b[K\rremote: Counting objects:  50% (30/60)\u001b[K\rremote: Counting objects:  51% (31/60)\u001b[K\rremote: Counting objects:  53% (32/60)\u001b[K\rremote: Counting objects:  55% (33/60)\u001b[K\rremote: Counting objects:  56% (34/60)\u001b[K\rremote: Counting objects:  58% (35/60)\u001b[K\rremote: Counting objects:  60% (36/60)\u001b[K\rremote: Counting objects:  61% (37/60)\u001b[K\rremote: Counting objects:  63% (38/60)\u001b[K\rremote: Counting objects:  65% (39/60)\u001b[K\rremote: Counting objects:  66% (40/60)\u001b[K\rremote: Counting objects:  68% (41/60)\u001b[K\rremote: Counting objects:  70% (42/60)\u001b[K\rremote: Counting objects:  71% (43/60)\u001b[K\rremote: Counting objects:  73% (44/60)\u001b[K\rremote: Counting objects:  75% (45/60)\u001b[K\rremote: Counting objects:  76% (46/60)\u001b[K\rremote: Counting objects:  78% (47/60)\u001b[K\rremote: Counting objects:  80% (48/60)\u001b[K\rremote: Counting objects:  81% (49/60)\u001b[K\rremote: Counting objects:  83% (50/60)\u001b[K\rremote: Counting objects:  85% (51/60)\u001b[K\rremote: Counting objects:  86% (52/60)\u001b[K\rremote: Counting objects:  88% (53/60)\u001b[K\rremote: Counting objects:  90% (54/60)\u001b[K\rremote: Counting objects:  91% (55/60)\u001b[K\rremote: Counting objects:  93% (56/60)\u001b[K\rremote: Counting objects:  95% (57/60)\u001b[K\rremote: Counting objects:  96% (58/60)\u001b[K\rremote: Counting objects:  98% (59/60)\u001b[K\rremote: Counting objects: 100% (60/60)\u001b[K\rremote: Counting objects: 100% (60/60), done.\u001b[K\n",
            "remote: Compressing objects:   2% (1/48)\u001b[K\rremote: Compressing objects:   4% (2/48)\u001b[K\rremote: Compressing objects:   6% (3/48)\u001b[K\rremote: Compressing objects:   8% (4/48)\u001b[K\rremote: Compressing objects:  10% (5/48)\u001b[K\rremote: Compressing objects:  12% (6/48)\u001b[K\rremote: Compressing objects:  14% (7/48)\u001b[K\rremote: Compressing objects:  16% (8/48)\u001b[K\rremote: Compressing objects:  18% (9/48)\u001b[K\rremote: Compressing objects:  20% (10/48)\u001b[K\rremote: Compressing objects:  22% (11/48)\u001b[K\rremote: Compressing objects:  25% (12/48)\u001b[K\rremote: Compressing objects:  27% (13/48)\u001b[K\rremote: Compressing objects:  29% (14/48)\u001b[K\rremote: Compressing objects:  31% (15/48)\u001b[K\rremote: Compressing objects:  33% (16/48)\u001b[K\rremote: Compressing objects:  35% (17/48)\u001b[K\rremote: Compressing objects:  37% (18/48)\u001b[K\rremote: Compressing objects:  39% (19/48)\u001b[K\rremote: Compressing objects:  41% (20/48)\u001b[K\rremote: Compressing objects:  43% (21/48)\u001b[K\rremote: Compressing objects:  45% (22/48)\u001b[K\rremote: Compressing objects:  47% (23/48)\u001b[K\rremote: Compressing objects:  50% (24/48)\u001b[K\rremote: Compressing objects:  52% (25/48)\u001b[K\rremote: Compressing objects:  54% (26/48)\u001b[K\rremote: Compressing objects:  56% (27/48)\u001b[K\rremote: Compressing objects:  58% (28/48)\u001b[K\rremote: Compressing objects:  60% (29/48)\u001b[K\rremote: Compressing objects:  62% (30/48)\u001b[K\rremote: Compressing objects:  64% (31/48)\u001b[K\rremote: Compressing objects:  66% (32/48)\u001b[K\rremote: Compressing objects:  68% (33/48)\u001b[K\rremote: Compressing objects:  70% (34/48)\u001b[K\rremote: Compressing objects:  72% (35/48)\u001b[K\rremote: Compressing objects:  75% (36/48)\u001b[K\rremote: Compressing objects:  77% (37/48)\u001b[K\rremote: Compressing objects:  79% (38/48)\u001b[K\rremote: Compressing objects:  81% (39/48)\u001b[K\rremote: Compressing objects:  83% (40/48)\u001b[K\rremote: Compressing objects:  85% (41/48)\u001b[K\rremote: Compressing objects:  87% (42/48)\u001b[K\rremote: Compressing objects:  89% (43/48)\u001b[K\rremote: Compressing objects:  91% (44/48)\u001b[K\rremote: Compressing objects:  93% (45/48)\u001b[K\rremote: Compressing objects:  95% (46/48)\u001b[K\rremote: Compressing objects:  97% (47/48)\u001b[K\rremote: Compressing objects: 100% (48/48)\u001b[K\rremote: Compressing objects: 100% (48/48), done.\u001b[K\n",
            "Unpacking objects:   1% (1/60)   \rUnpacking objects:   3% (2/60)   \rUnpacking objects:   5% (3/60)   \rUnpacking objects:   6% (4/60)   \rUnpacking objects:   8% (5/60)   \rUnpacking objects:  10% (6/60)   \rUnpacking objects:  11% (7/60)   \rUnpacking objects:  13% (8/60)   \rUnpacking objects:  15% (9/60)   \rUnpacking objects:  16% (10/60)   \rUnpacking objects:  18% (11/60)   \rUnpacking objects:  20% (12/60)   \rUnpacking objects:  21% (13/60)   \rUnpacking objects:  23% (14/60)   \rUnpacking objects:  25% (15/60)   \rUnpacking objects:  26% (16/60)   \rUnpacking objects:  28% (17/60)   \rUnpacking objects:  30% (18/60)   \rUnpacking objects:  31% (19/60)   \rUnpacking objects:  33% (20/60)   \rUnpacking objects:  35% (21/60)   \rUnpacking objects:  36% (22/60)   \rUnpacking objects:  38% (23/60)   \rUnpacking objects:  40% (24/60)   \rUnpacking objects:  41% (25/60)   \rUnpacking objects:  43% (26/60)   \rUnpacking objects:  45% (27/60)   \rUnpacking objects:  46% (28/60)   \rUnpacking objects:  48% (29/60)   \rUnpacking objects:  50% (30/60)   \rUnpacking objects:  51% (31/60)   \rUnpacking objects:  53% (32/60)   \rUnpacking objects:  55% (33/60)   \rUnpacking objects:  56% (34/60)   \rUnpacking objects:  58% (35/60)   \rUnpacking objects:  60% (36/60)   \rUnpacking objects:  61% (37/60)   \rUnpacking objects:  63% (38/60)   \rUnpacking objects:  65% (39/60)   \rUnpacking objects:  66% (40/60)   \rUnpacking objects:  68% (41/60)   \rremote: Total 60 (delta 15), reused 51 (delta 9), pack-reused 0\u001b[K\n",
            "Unpacking objects:  70% (42/60)   \rUnpacking objects:  71% (43/60)   \rUnpacking objects:  73% (44/60)   \rUnpacking objects:  75% (45/60)   \rUnpacking objects:  76% (46/60)   \rUnpacking objects:  78% (47/60)   \rUnpacking objects:  80% (48/60)   \rUnpacking objects:  81% (49/60)   \rUnpacking objects:  83% (50/60)   \rUnpacking objects:  85% (51/60)   \rUnpacking objects:  86% (52/60)   \rUnpacking objects:  88% (53/60)   \rUnpacking objects:  90% (54/60)   \rUnpacking objects:  91% (55/60)   \rUnpacking objects:  93% (56/60)   \rUnpacking objects:  95% (57/60)   \rUnpacking objects:  96% (58/60)   \rUnpacking objects:  98% (59/60)   \rUnpacking objects: 100% (60/60)   \rUnpacking objects: 100% (60/60), done.\n"
          ],
          "name": "stdout"
        }
      ]
    },
    {
      "cell_type": "code",
      "metadata": {
        "id": "NhkM8ODqyqqp",
        "colab_type": "code",
        "colab": {
          "base_uri": "https://localhost:8080/",
          "height": 68
        },
        "outputId": "471de04a-1cc2-4b1e-e800-6ec8164c6c85"
      },
      "source": [
        "!pwd\n",
        "%ls\n",
        "%cd BookRepo/\n",
        "#%cd '/content/BookRepo'# Set the working directory"
      ],
      "execution_count": 77,
      "outputs": [
        {
          "output_type": "stream",
          "text": [
            "/content\n",
            "\u001b[0m\u001b[01;34mBookRepo\u001b[0m/  \u001b[01;34msample_data\u001b[0m/\n",
            "/content/BookRepo\n"
          ],
          "name": "stdout"
        }
      ]
    },
    {
      "cell_type": "code",
      "metadata": {
        "id": "_qmXamOgx6kO",
        "colab_type": "code",
        "colab": {}
      },
      "source": [
        "import matplotlib.pyplot as plt\n",
        "plt.rcParams['figure.figsize'] = [10, 10]"
      ],
      "execution_count": 0,
      "outputs": []
    },
    {
      "cell_type": "code",
      "metadata": {
        "id": "Tcn4mj-Nx6kV",
        "colab_type": "code",
        "colab": {}
      },
      "source": [
        "import cesium\n",
        "import xgboost as xgb\n",
        "import numpy as np\n",
        "import matplotlib.pyplot as plt\n",
        "import pandas as pd\n",
        "import time\n",
        "\n",
        "from cesium import datasets\n",
        "from cesium import featurize as ft\n",
        "\n",
        "import scipy\n",
        "from scipy.stats import pearsonr, spearmanr\n",
        "from scipy.stats import skew\n",
        "\n",
        "import sklearn\n",
        "from sklearn.ensemble import RandomForestClassifier\n",
        "from sklearn.metrics import accuracy_score\n",
        "from sklearn.model_selection import train_test_split"
      ],
      "execution_count": 0,
      "outputs": []
    },
    {
      "cell_type": "code",
      "metadata": {
        "id": "7pd5EXfsx6kZ",
        "colab_type": "code",
        "colab": {
          "base_uri": "https://localhost:8080/",
          "height": 85
        },
        "outputId": "feb2d8b4-c114-4340-c5ac-ca5f58877e7f"
      },
      "source": [
        "print(cesium.__version__)\n",
        "print(xgb.__version__)\n",
        "print(scipy.__version__)\n",
        "print(sklearn.__version__)"
      ],
      "execution_count": 29,
      "outputs": [
        {
          "output_type": "stream",
          "text": [
            "0.9.12\n",
            "0.90\n",
            "1.4.1\n",
            "0.22.2.post1\n"
          ],
          "name": "stdout"
        }
      ]
    },
    {
      "cell_type": "markdown",
      "metadata": {
        "id": "I3UBs34Zx6kc",
        "colab_type": "text"
      },
      "source": [
        "## Load data and generate some features of interest"
      ]
    },
    {
      "cell_type": "code",
      "metadata": {
        "id": "5Onj2g5Qx6kd",
        "colab_type": "code",
        "colab": {
          "base_uri": "https://localhost:8080/",
          "height": 34
        },
        "outputId": "8f4ea042-64bb-4313-e054-305a316af8db"
      },
      "source": [
        "eeg = datasets.fetch_andrzejak()"
      ],
      "execution_count": 30,
      "outputs": [
        {
          "output_type": "stream",
          "text": [
            "Loaded data from cached archive.\n"
          ],
          "name": "stderr"
        }
      ]
    },
    {
      "cell_type": "code",
      "metadata": {
        "id": "39eYzpGux6ki",
        "colab_type": "code",
        "colab": {
          "base_uri": "https://localhost:8080/",
          "height": 34
        },
        "outputId": "83dfd435-a331-4de1-fb03-79c92682df1f"
      },
      "source": [
        "type(eeg)"
      ],
      "execution_count": 31,
      "outputs": [
        {
          "output_type": "execute_result",
          "data": {
            "text/plain": [
              "dict"
            ]
          },
          "metadata": {
            "tags": []
          },
          "execution_count": 31
        }
      ]
    },
    {
      "cell_type": "code",
      "metadata": {
        "id": "1FLm6UVMx6kl",
        "colab_type": "code",
        "colab": {
          "base_uri": "https://localhost:8080/",
          "height": 34
        },
        "outputId": "60e932e5-4a23-4603-a27c-e7297b8f46b0"
      },
      "source": [
        "eeg.keys()"
      ],
      "execution_count": 32,
      "outputs": [
        {
          "output_type": "execute_result",
          "data": {
            "text/plain": [
              "dict_keys(['times', 'measurements', 'classes', 'archive', 'header'])"
            ]
          },
          "metadata": {
            "tags": []
          },
          "execution_count": 32
        }
      ]
    },
    {
      "cell_type": "markdown",
      "metadata": {
        "id": "to2x3RxKx6ko",
        "colab_type": "text"
      },
      "source": [
        "### Visually inspect"
      ]
    },
    {
      "cell_type": "code",
      "metadata": {
        "id": "DZo6SWfJx6kp",
        "colab_type": "code",
        "colab": {
          "base_uri": "https://localhost:8080/",
          "height": 282
        },
        "outputId": "746901b5-b75e-45f0-e0c8-b1fbd319a71d"
      },
      "source": [
        "plt.subplot(3, 1, 1)\n",
        "plt.plot(eeg[\"measurements\"][0])\n",
        "plt.legend(eeg['classes'][0])\n",
        "plt.subplot(3, 1, 2)\n",
        "plt.plot(eeg[\"measurements\"][300])\n",
        "plt.legend(eeg['classes'][300])\n",
        "plt.subplot(3, 1, 3)\n",
        "plt.plot(eeg[\"measurements\"][450])\n",
        "plt.legend(eeg['classes'][450])"
      ],
      "execution_count": 33,
      "outputs": [
        {
          "output_type": "execute_result",
          "data": {
            "text/plain": [
              "<matplotlib.legend.Legend at 0x7fac23a101d0>"
            ]
          },
          "metadata": {
            "tags": []
          },
          "execution_count": 33
        },
        {
          "output_type": "display_data",
          "data": {
            "image/png": "[encoded data removed]",
            "text/plain": [
              "<Figure size 432x288 with 3 Axes>"
            ]
          },
          "metadata": {
            "tags": [],
            "needs_background": "light"
          }
        }
      ]
    },
    {
      "cell_type": "code",
      "metadata": {
        "id": "OK4qv2Ymx6kt",
        "colab_type": "code",
        "colab": {
          "base_uri": "https://localhost:8080/",
          "height": 34
        },
        "outputId": "71e88070-626e-4f84-fca5-a30f8ed1f0e7"
      },
      "source": [
        "type(eeg[\"measurements\"][0])"
      ],
      "execution_count": 34,
      "outputs": [
        {
          "output_type": "execute_result",
          "data": {
            "text/plain": [
              "numpy.ndarray"
            ]
          },
          "metadata": {
            "tags": []
          },
          "execution_count": 34
        }
      ]
    },
    {
      "cell_type": "code",
      "metadata": {
        "id": "YCb7wJfZx6ky",
        "colab_type": "code",
        "colab": {
          "base_uri": "https://localhost:8080/",
          "height": 34
        },
        "outputId": "9ade2744-82c9-40ca-9437-3527fea245a0"
      },
      "source": [
        "type(eeg)"
      ],
      "execution_count": 35,
      "outputs": [
        {
          "output_type": "execute_result",
          "data": {
            "text/plain": [
              "dict"
            ]
          },
          "metadata": {
            "tags": []
          },
          "execution_count": 35
        }
      ]
    },
    {
      "cell_type": "code",
      "metadata": {
        "id": "vhdIEk8_x6k2",
        "colab_type": "code",
        "colab": {
          "base_uri": "https://localhost:8080/",
          "height": 34
        },
        "outputId": "03c71aa3-271b-4928-c0cf-0ca1b1d4eefc"
      },
      "source": [
        "eeg.keys()"
      ],
      "execution_count": 36,
      "outputs": [
        {
          "output_type": "execute_result",
          "data": {
            "text/plain": [
              "dict_keys(['times', 'measurements', 'classes', 'archive', 'header'])"
            ]
          },
          "metadata": {
            "tags": []
          },
          "execution_count": 36
        }
      ]
    },
    {
      "cell_type": "code",
      "metadata": {
        "id": "uwk47oDYx6k5",
        "colab_type": "code",
        "colab": {
          "base_uri": "https://localhost:8080/",
          "height": 34
        },
        "outputId": "da29de12-221d-40b1-e9d2-a773ed19c251"
      },
      "source": [
        "type(eeg['measurements'])"
      ],
      "execution_count": 37,
      "outputs": [
        {
          "output_type": "execute_result",
          "data": {
            "text/plain": [
              "list"
            ]
          },
          "metadata": {
            "tags": []
          },
          "execution_count": 37
        }
      ]
    },
    {
      "cell_type": "code",
      "metadata": {
        "id": "QOhrqfBTx6k9",
        "colab_type": "code",
        "colab": {
          "base_uri": "https://localhost:8080/",
          "height": 34
        },
        "outputId": "0db0fc00-dc31-44c4-a009-9f7af9421aa3"
      },
      "source": [
        "len(eeg['measurements'])"
      ],
      "execution_count": 38,
      "outputs": [
        {
          "output_type": "execute_result",
          "data": {
            "text/plain": [
              "500"
            ]
          },
          "metadata": {
            "tags": []
          },
          "execution_count": 38
        }
      ]
    },
    {
      "cell_type": "code",
      "metadata": {
        "id": "Qj-hlIXmx6lB",
        "colab_type": "code",
        "colab": {
          "base_uri": "https://localhost:8080/",
          "height": 34
        },
        "outputId": "cfae5dca-b80e-48a9-a5ae-46fe7f1f385a"
      },
      "source": [
        "eeg['measurements'][0].shape"
      ],
      "execution_count": 39,
      "outputs": [
        {
          "output_type": "execute_result",
          "data": {
            "text/plain": [
              "(4097,)"
            ]
          },
          "metadata": {
            "tags": []
          },
          "execution_count": 39
        }
      ]
    },
    {
      "cell_type": "markdown",
      "metadata": {
        "id": "FiAlDZTWx6lH",
        "colab_type": "text"
      },
      "source": [
        "## Generate the features"
      ]
    },
    {
      "cell_type": "code",
      "metadata": {
        "id": "6iGo8l4Ax6lI",
        "colab_type": "code",
        "colab": {}
      },
      "source": [
        "# from cesium import featurize as ft\n",
        "# features_to_use = [\"amplitude\",\n",
        "#                    \"percent_beyond_1_std\",\n",
        "#                    \"percent_close_to_median\",\n",
        "#                   \"skew\",\n",
        "#                   \"max_slope\"]\n",
        "# fset_cesium = ft.featurize_time_series(times=eeg[\"times\"],\n",
        "#                                               values=eeg[\"measurements\"],\n",
        "#                                               errors=None,\n",
        "#                                               features_to_use=features_to_use,\n",
        "#                                              scheduler = None)"
      ],
      "execution_count": 0,
      "outputs": []
    },
    {
      "cell_type": "code",
      "metadata": {
        "id": "Dr36MvWBx6lL",
        "colab_type": "code",
        "colab": {}
      },
      "source": [
        "fset_cesium = pd.read_csv(\"Ch09/full_eeg_data_features.csv\", header = [0, 1])"
      ],
      "execution_count": 0,
      "outputs": []
    },
    {
      "cell_type": "code",
      "metadata": {
        "scrolled": true,
        "id": "FjrQPIdnx6lO",
        "colab_type": "code",
        "colab": {
          "base_uri": "https://localhost:8080/",
          "height": 255
        },
        "outputId": "abfae400-1f19-40e5-c482-201fdddb0e66"
      },
      "source": [
        "fset_cesium.head()"
      ],
      "execution_count": 79,
      "outputs": [
        {
          "output_type": "execute_result",
          "data": {
            "text/html": [
              "<div>\n",
              "<style scoped>\n",
              "    .dataframe tbody tr th:only-of-type {\n",
              "        vertical-align: middle;\n",
              "    }\n",
              "\n",
              "    .dataframe tbody tr th {\n",
              "        vertical-align: top;\n",
              "    }\n",
              "\n",
              "    .dataframe thead tr th {\n",
              "        text-align: left;\n",
              "    }\n",
              "</style>\n",
              "<table border=\"1\" class=\"dataframe\">\n",
              "  <thead>\n",
              "    <tr>\n",
              "      <th></th>\n",
              "      <th>feature</th>\n",
              "      <th>amplitude</th>\n",
              "      <th>percent_beyond_1_std</th>\n",
              "      <th>percent_close_to_median</th>\n",
              "      <th>skew</th>\n",
              "      <th>max_slope</th>\n",
              "    </tr>\n",
              "    <tr>\n",
              "      <th></th>\n",
              "      <th>channel</th>\n",
              "      <th>0</th>\n",
              "      <th>0</th>\n",
              "      <th>0</th>\n",
              "      <th>0</th>\n",
              "      <th>0</th>\n",
              "    </tr>\n",
              "  </thead>\n",
              "  <tbody>\n",
              "    <tr>\n",
              "      <th>0</th>\n",
              "      <td>0</td>\n",
              "      <td>143.5</td>\n",
              "      <td>0.327313</td>\n",
              "      <td>0.505004</td>\n",
              "      <td>0.032805</td>\n",
              "      <td>11107.796610</td>\n",
              "    </tr>\n",
              "    <tr>\n",
              "      <th>1</th>\n",
              "      <td>1</td>\n",
              "      <td>211.5</td>\n",
              "      <td>0.290212</td>\n",
              "      <td>0.640469</td>\n",
              "      <td>-0.092715</td>\n",
              "      <td>20653.559322</td>\n",
              "    </tr>\n",
              "    <tr>\n",
              "      <th>2</th>\n",
              "      <td>2</td>\n",
              "      <td>165.0</td>\n",
              "      <td>0.302660</td>\n",
              "      <td>0.515987</td>\n",
              "      <td>-0.004100</td>\n",
              "      <td>13537.627119</td>\n",
              "    </tr>\n",
              "    <tr>\n",
              "      <th>3</th>\n",
              "      <td>3</td>\n",
              "      <td>171.5</td>\n",
              "      <td>0.300952</td>\n",
              "      <td>0.541128</td>\n",
              "      <td>0.063678</td>\n",
              "      <td>17008.813559</td>\n",
              "    </tr>\n",
              "    <tr>\n",
              "      <th>4</th>\n",
              "      <td>4</td>\n",
              "      <td>170.0</td>\n",
              "      <td>0.305101</td>\n",
              "      <td>0.566268</td>\n",
              "      <td>0.142753</td>\n",
              "      <td>13016.949153</td>\n",
              "    </tr>\n",
              "  </tbody>\n",
              "</table>\n",
              "</div>"
            ],
            "text/plain": [
              "  feature amplitude  ...      skew     max_slope\n",
              "  channel         0  ...         0             0\n",
              "0       0     143.5  ...  0.032805  11107.796610\n",
              "1       1     211.5  ... -0.092715  20653.559322\n",
              "2       2     165.0  ... -0.004100  13537.627119\n",
              "3       3     171.5  ...  0.063678  17008.813559\n",
              "4       4     170.0  ...  0.142753  13016.949153\n",
              "\n",
              "[5 rows x 6 columns]"
            ]
          },
          "metadata": {
            "tags": []
          },
          "execution_count": 79
        }
      ]
    },
    {
      "cell_type": "code",
      "metadata": {
        "id": "2Fh4yPIJx6lT",
        "colab_type": "code",
        "colab": {}
      },
      "source": [
        "# fset_cesium.to_csv(\"full_eeg_data_features.csv\")"
      ],
      "execution_count": 0,
      "outputs": []
    },
    {
      "cell_type": "code",
      "metadata": {
        "id": "rfD74tZgx6lX",
        "colab_type": "code",
        "colab": {
          "base_uri": "https://localhost:8080/",
          "height": 34
        },
        "outputId": "87a97d2b-e7c0-45a2-8bd2-fd1452188433"
      },
      "source": [
        "fset_cesium.shape"
      ],
      "execution_count": 81,
      "outputs": [
        {
          "output_type": "execute_result",
          "data": {
            "text/plain": [
              "(500, 6)"
            ]
          },
          "metadata": {
            "tags": []
          },
          "execution_count": 81
        }
      ]
    },
    {
      "cell_type": "markdown",
      "metadata": {
        "id": "1w0D69o5x6la",
        "colab_type": "text"
      },
      "source": [
        "## Exercise: validate/calculate these features by hand\n",
        "#### look up feature definitions here: http://cesium-ml.org/docs/feature_table.html\n",
        "confirm the values by hand coding these features for the first EEG measurement\n",
        "(that is eeg[\"measurements\"][0])"
      ]
    },
    {
      "cell_type": "code",
      "metadata": {
        "id": "PBAtBEsIx6la",
        "colab_type": "code",
        "colab": {}
      },
      "source": [
        "ex = eeg[\"measurements\"][0]"
      ],
      "execution_count": 0,
      "outputs": []
    },
    {
      "cell_type": "code",
      "metadata": {
        "id": "YTwzn4cpx6ld",
        "colab_type": "code",
        "colab": {}
      },
      "source": [
        "ex_mean = np.mean(ex)\n",
        "ex_std  = np.std(ex)"
      ],
      "execution_count": 0,
      "outputs": []
    },
    {
      "cell_type": "code",
      "metadata": {
        "id": "gPGiUA8lx6lg",
        "colab_type": "code",
        "colab": {
          "base_uri": "https://localhost:8080/",
          "height": 34
        },
        "outputId": "32eeb92d-5dc1-47c3-b2e8-96e48b725d60"
      },
      "source": [
        "# amplitude\n",
        "(np.max(ex) - np.min(ex)) / 2"
      ],
      "execution_count": 84,
      "outputs": [
        {
          "output_type": "execute_result",
          "data": {
            "text/plain": [
              "143.5"
            ]
          },
          "metadata": {
            "tags": []
          },
          "execution_count": 84
        }
      ]
    },
    {
      "cell_type": "code",
      "metadata": {
        "id": "5P01awo-x6lk",
        "colab_type": "code",
        "colab": {
          "base_uri": "https://localhost:8080/",
          "height": 34
        },
        "outputId": "c86632c1-d867-4e03-bc87-37959704ef09"
      },
      "source": [
        " \n",
        "siz = len(ex)\n",
        "ll = ex_mean - ex_std\n",
        "ul = ex_mean + ex_std\n",
        "\n",
        "quals = [i for i in range(siz) if ex[i] < ll or ex[i] > ul]\n",
        "len(quals)/len(ex)"
      ],
      "execution_count": 85,
      "outputs": [
        {
          "output_type": "execute_result",
          "data": {
            "text/plain": [
              "0.3273126678057115"
            ]
          },
          "metadata": {
            "tags": []
          },
          "execution_count": 85
        }
      ]
    },
    {
      "cell_type": "code",
      "metadata": {
        "id": "83ITOeHAx6lo",
        "colab_type": "code",
        "colab": {
          "base_uri": "https://localhost:8080/",
          "height": 34
        },
        "outputId": "473de4d9-a788-404c-8fa8-9c7e5c9ec0c8"
      },
      "source": [
        "# percent_close_to_median\n",
        "# Percentage of values within window_frac*(max(x)-min(x)) of median.\n",
        "# find the source code here:\n",
        "# https://github.com/cesium-ml/cesium/blob/master/cesium/features/common_functions.py\n",
        "# window frac = 0.1\n",
        "window = 0.1 * (np.max(ex) - np.min(ex))\n",
        "np.where(np.abs(ex_mean - ex) < window)[0].shape[0] / ex.shape[0]"
      ],
      "execution_count": 86,
      "outputs": [
        {
          "output_type": "execute_result",
          "data": {
            "text/plain": [
              "0.5050036612155235"
            ]
          },
          "metadata": {
            "tags": []
          },
          "execution_count": 86
        }
      ]
    },
    {
      "cell_type": "code",
      "metadata": {
        "id": "3wG_mutYx6lr",
        "colab_type": "code",
        "colab": {
          "base_uri": "https://localhost:8080/",
          "height": 367
        },
        "outputId": "361b8a36-3441-4790-918b-01cda4e5a31e"
      },
      "source": [
        "## skew\n",
        "print(skew(ex))\n",
        "plt.hist(ex)"
      ],
      "execution_count": 87,
      "outputs": [
        {
          "output_type": "stream",
          "text": [
            "0.03280499636078603\n"
          ],
          "name": "stdout"
        },
        {
          "output_type": "execute_result",
          "data": {
            "text/plain": [
              "(array([  10.,   57.,  276.,  730., 1048., 1042.,  621.,  263.,   42.,\n",
              "           8.]),\n",
              " array([-146. , -117.3,  -88.6,  -59.9,  -31.2,   -2.5,   26.2,   54.9,\n",
              "          83.6,  112.3,  141. ]),\n",
              " <a list of 10 Patch objects>)"
            ]
          },
          "metadata": {
            "tags": []
          },
          "execution_count": 87
        },
        {
          "output_type": "display_data",
          "data": {
            "image/png": "[encoded data removed]",
            "text/plain": [
              "<Figure size 432x288 with 1 Axes>"
            ]
          },
          "metadata": {
            "tags": [],
            "needs_background": "light"
          }
        }
      ]
    },
    {
      "cell_type": "code",
      "metadata": {
        "id": "wy6eZckex6lu",
        "colab_type": "code",
        "colab": {
          "base_uri": "https://localhost:8080/",
          "height": 34
        },
        "outputId": "2205343d-295d-45b3-a9c8-357eceeb1c58"
      },
      "source": [
        "## max slope\n",
        "## again check definition : https://github.com/cesium-ml/cesium/blob/master/cesium/features/common_functions.py\n",
        "times = eeg[\"times\"][0]\n",
        "np.max(np.abs(np.diff(ex)/np.diff(times)))"
      ],
      "execution_count": 88,
      "outputs": [
        {
          "output_type": "execute_result",
          "data": {
            "text/plain": [
              "11107.796610166752"
            ]
          },
          "metadata": {
            "tags": []
          },
          "execution_count": 88
        }
      ]
    },
    {
      "cell_type": "code",
      "metadata": {
        "id": "o3rsFFTQx6ly",
        "colab_type": "code",
        "colab": {
          "base_uri": "https://localhost:8080/",
          "height": 333
        },
        "outputId": "17fcd1cc-817e-4952-d7e0-01c4750e7afc"
      },
      "source": [
        "plt.hist(fset_cesium.iloc[:, 1])"
      ],
      "execution_count": 89,
      "outputs": [
        {
          "output_type": "execute_result",
          "data": {
            "text/plain": [
              "(array([311.,  85.,  30.,  19.,   8.,  13.,   7.,  14.,   7.,   6.]),\n",
              " array([  63. ,  241.5,  420. ,  598.5,  777. ,  955.5, 1134. , 1312.5,\n",
              "        1491. , 1669.5, 1848. ]),\n",
              " <a list of 10 Patch objects>)"
            ]
          },
          "metadata": {
            "tags": []
          },
          "execution_count": 89
        },
        {
          "output_type": "display_data",
          "data": {
            "image/png": "[encoded data removed]",
            "text/plain": [
              "<Figure size 432x288 with 1 Axes>"
            ]
          },
          "metadata": {
            "tags": [],
            "needs_background": "light"
          }
        }
      ]
    },
    {
      "cell_type": "code",
      "metadata": {
        "id": "EvrWJTPux6l2",
        "colab_type": "code",
        "colab": {}
      },
      "source": [
        "fset_cesium['classes'] = eeg['classes']"
      ],
      "execution_count": 0,
      "outputs": []
    },
    {
      "cell_type": "code",
      "metadata": {
        "id": "vD-PrdSnx6l5",
        "colab_type": "code",
        "colab": {}
      },
      "source": [
        "fset_cesium.columns = fset_cesium.columns.droplevel(-1)"
      ],
      "execution_count": 0,
      "outputs": []
    },
    {
      "cell_type": "code",
      "metadata": {
        "id": "vgDB78PFx6l7",
        "colab_type": "code",
        "colab": {
          "base_uri": "https://localhost:8080/",
          "height": 384
        },
        "outputId": "3b26686f-42da-475d-e87b-0260f1cb0f36"
      },
      "source": [
        "fset_cesium.groupby('classes')['amplitude'].hist()"
      ],
      "execution_count": 92,
      "outputs": [
        {
          "output_type": "execute_result",
          "data": {
            "text/plain": [
              "classes\n",
              "F    AxesSubplot(0.125,0.125;0.775x0.755)\n",
              "N    AxesSubplot(0.125,0.125;0.775x0.755)\n",
              "O    AxesSubplot(0.125,0.125;0.775x0.755)\n",
              "S    AxesSubplot(0.125,0.125;0.775x0.755)\n",
              "Z    AxesSubplot(0.125,0.125;0.775x0.755)\n",
              "Name: amplitude, dtype: object"
            ]
          },
          "metadata": {
            "tags": []
          },
          "execution_count": 92
        },
        {
          "output_type": "display_data",
          "data": {
            "image/png": "[encoded data removed]",
            "text/plain": [
              "<Figure size 432x288 with 1 Axes>"
            ]
          },
          "metadata": {
            "tags": [],
            "needs_background": "light"
          }
        }
      ]
    },
    {
      "cell_type": "code",
      "metadata": {
        "id": "M19N5qnBx6mA",
        "colab_type": "code",
        "colab": {
          "base_uri": "https://localhost:8080/",
          "height": 428
        },
        "outputId": "a1fdfbdc-2520-4aeb-8513-47e74d523466"
      },
      "source": [
        "fset_cesium['amplitude'].hist(by=fset_cesium['classes'])"
      ],
      "execution_count": 93,
      "outputs": [
        {
          "output_type": "execute_result",
          "data": {
            "text/plain": [
              "array([[<matplotlib.axes._subplots.AxesSubplot object at 0x7fac23323320>,\n",
              "        <matplotlib.axes._subplots.AxesSubplot object at 0x7fac2307e898>],\n",
              "       [<matplotlib.axes._subplots.AxesSubplot object at 0x7fac23033b00>,\n",
              "        <matplotlib.axes._subplots.AxesSubplot object at 0x7fac22fe7d68>],\n",
              "       [<matplotlib.axes._subplots.AxesSubplot object at 0x7fac22f9cfd0>,\n",
              "        <matplotlib.axes._subplots.AxesSubplot object at 0x7fac22f5b278>]],\n",
              "      dtype=object)"
            ]
          },
          "metadata": {
            "tags": []
          },
          "execution_count": 93
        },
        {
          "output_type": "display_data",
          "data": {
            "image/png": "[encoded data removed]",
            "text/plain": [
              "<Figure size 432x288 with 6 Axes>"
            ]
          },
          "metadata": {
            "tags": [],
            "needs_background": "light"
          }
        }
      ]
    },
    {
      "cell_type": "code",
      "metadata": {
        "id": "npT0u9o3x6mE",
        "colab_type": "code",
        "colab": {
          "base_uri": "https://localhost:8080/",
          "height": 440
        },
        "outputId": "e5709b0a-2c88-4c82-a52d-f2f2edeac3d5"
      },
      "source": [
        "fset_cesium['max_slope'].hist(by=fset_cesium['classes'])"
      ],
      "execution_count": 94,
      "outputs": [
        {
          "output_type": "execute_result",
          "data": {
            "text/plain": [
              "array([[<matplotlib.axes._subplots.AxesSubplot object at 0x7fac22e73a20>,\n",
              "        <matplotlib.axes._subplots.AxesSubplot object at 0x7fac22e2c780>],\n",
              "       [<matplotlib.axes._subplots.AxesSubplot object at 0x7fac22dd69e8>,\n",
              "        <matplotlib.axes._subplots.AxesSubplot object at 0x7fac22e0cc50>],\n",
              "       [<matplotlib.axes._subplots.AxesSubplot object at 0x7fac22dc0eb8>,\n",
              "        <matplotlib.axes._subplots.AxesSubplot object at 0x7fac22d80160>]],\n",
              "      dtype=object)"
            ]
          },
          "metadata": {
            "tags": []
          },
          "execution_count": 94
        },
        {
          "output_type": "display_data",
          "data": {
            "image/png": "[encoded data removed]",
            "text/plain": [
              "<Figure size 432x288 with 6 Axes>"
            ]
          },
          "metadata": {
            "tags": [],
            "needs_background": "light"
          }
        }
      ]
    },
    {
      "cell_type": "markdown",
      "metadata": {
        "id": "aKsiU5g-x6mH",
        "colab_type": "text"
      },
      "source": [
        "## Prepare data for training"
      ]
    },
    {
      "cell_type": "code",
      "metadata": {
        "id": "c444yoVbx6mI",
        "colab_type": "code",
        "colab": {}
      },
      "source": [
        "X_train, X_test, y_train, y_test = train_test_split(\n",
        "     fset_cesium.iloc[:, 1:6].values, eeg[\"classes\"], random_state=21)"
      ],
      "execution_count": 0,
      "outputs": []
    },
    {
      "cell_type": "markdown",
      "metadata": {
        "id": "YBDYB1QAx6mM",
        "colab_type": "text"
      },
      "source": [
        "## Try a random forest with these features"
      ]
    },
    {
      "cell_type": "code",
      "metadata": {
        "id": "SVljJU4ax6mM",
        "colab_type": "code",
        "colab": {}
      },
      "source": [
        "clf = RandomForestClassifier(n_estimators=10, max_depth=3,\n",
        "                              random_state=21)"
      ],
      "execution_count": 0,
      "outputs": []
    },
    {
      "cell_type": "code",
      "metadata": {
        "id": "9CS0UJUzx6mP",
        "colab_type": "code",
        "colab": {
          "base_uri": "https://localhost:8080/",
          "height": 173
        },
        "outputId": "80a66a40-7f75-40ea-873f-b7ec5d7cbdda"
      },
      "source": [
        "clf.fit(X_train, y_train)"
      ],
      "execution_count": 97,
      "outputs": [
        {
          "output_type": "execute_result",
          "data": {
            "text/plain": [
              "RandomForestClassifier(bootstrap=True, ccp_alpha=0.0, class_weight=None,\n",
              "                       criterion='gini', max_depth=3, max_features='auto',\n",
              "                       max_leaf_nodes=None, max_samples=None,\n",
              "                       min_impurity_decrease=0.0, min_impurity_split=None,\n",
              "                       min_samples_leaf=1, min_samples_split=2,\n",
              "                       min_weight_fraction_leaf=0.0, n_estimators=10,\n",
              "                       n_jobs=None, oob_score=False, random_state=21, verbose=0,\n",
              "                       warm_start=False)"
            ]
          },
          "metadata": {
            "tags": []
          },
          "execution_count": 97
        }
      ]
    },
    {
      "cell_type": "code",
      "metadata": {
        "id": "Zpv15cxhx6mT",
        "colab_type": "code",
        "colab": {
          "base_uri": "https://localhost:8080/",
          "height": 34
        },
        "outputId": "703c14c6-1da7-4e67-be68-eee7aae0f558"
      },
      "source": [
        "clf.score(X_train, y_train)"
      ],
      "execution_count": 98,
      "outputs": [
        {
          "output_type": "execute_result",
          "data": {
            "text/plain": [
              "0.6266666666666667"
            ]
          },
          "metadata": {
            "tags": []
          },
          "execution_count": 98
        }
      ]
    },
    {
      "cell_type": "code",
      "metadata": {
        "id": "E-NEGtF7x6mX",
        "colab_type": "code",
        "colab": {
          "base_uri": "https://localhost:8080/",
          "height": 34
        },
        "outputId": "848091f3-f65a-4ca9-f77e-542b7512f7d1"
      },
      "source": [
        "clf.score(X_test, y_test)"
      ],
      "execution_count": 99,
      "outputs": [
        {
          "output_type": "execute_result",
          "data": {
            "text/plain": [
              "0.616"
            ]
          },
          "metadata": {
            "tags": []
          },
          "execution_count": 99
        }
      ]
    },
    {
      "cell_type": "code",
      "metadata": {
        "id": "6KKc5mnBx6md",
        "colab_type": "code",
        "colab": {
          "base_uri": "https://localhost:8080/",
          "height": 54
        },
        "outputId": "d88fef67-ff29-40db-c497-d802ac6f93cb"
      },
      "source": [
        "np.unique(y_test, return_counts=True)"
      ],
      "execution_count": 100,
      "outputs": [
        {
          "output_type": "execute_result",
          "data": {
            "text/plain": [
              "(array(['F', 'N', 'O', 'S', 'Z'], dtype='<U1'), array([20, 29, 21, 25, 30]))"
            ]
          },
          "metadata": {
            "tags": []
          },
          "execution_count": 100
        }
      ]
    },
    {
      "cell_type": "code",
      "metadata": {
        "id": "hf0toJ-gx6mg",
        "colab_type": "code",
        "colab": {
          "base_uri": "https://localhost:8080/",
          "height": 187
        },
        "outputId": "c96ebc51-5ab1-4b5b-ecce-e6d2012205ed"
      },
      "source": [
        "y_test"
      ],
      "execution_count": 101,
      "outputs": [
        {
          "output_type": "execute_result",
          "data": {
            "text/plain": [
              "array(['O', 'S', 'N', 'F', 'S', 'S', 'Z', 'S', 'O', 'Z', 'F', 'O', 'S',\n",
              "       'F', 'Z', 'N', 'Z', 'O', 'Z', 'Z', 'S', 'F', 'O', 'N', 'F', 'F',\n",
              "       'Z', 'N', 'Z', 'N', 'S', 'Z', 'O', 'O', 'S', 'S', 'N', 'S', 'N',\n",
              "       'S', 'N', 'O', 'N', 'S', 'Z', 'N', 'O', 'Z', 'Z', 'S', 'O', 'Z',\n",
              "       'F', 'F', 'S', 'Z', 'N', 'O', 'N', 'F', 'Z', 'Z', 'N', 'Z', 'F',\n",
              "       'Z', 'N', 'F', 'O', 'N', 'N', 'Z', 'N', 'O', 'N', 'F', 'O', 'F',\n",
              "       'F', 'Z', 'S', 'N', 'Z', 'N', 'O', 'N', 'S', 'N', 'S', 'O', 'O',\n",
              "       'S', 'O', 'N', 'N', 'S', 'N', 'S', 'Z', 'Z', 'S', 'S', 'O', 'F',\n",
              "       'S', 'F', 'F', 'Z', 'F', 'Z', 'O', 'O', 'S', 'Z', 'Z', 'F', 'N',\n",
              "       'Z', 'Z', 'F', 'S', 'N', 'Z', 'N', 'N'], dtype='<U1')"
            ]
          },
          "metadata": {
            "tags": []
          },
          "execution_count": 101
        }
      ]
    },
    {
      "cell_type": "code",
      "metadata": {
        "id": "NUT1k3i4x6mm",
        "colab_type": "code",
        "colab": {
          "base_uri": "https://localhost:8080/",
          "height": 34
        },
        "outputId": "9229fcac-b6c4-4add-fe90-74ab65ae142b"
      },
      "source": [
        "y_test.shape"
      ],
      "execution_count": 102,
      "outputs": [
        {
          "output_type": "execute_result",
          "data": {
            "text/plain": [
              "(125,)"
            ]
          },
          "metadata": {
            "tags": []
          },
          "execution_count": 102
        }
      ]
    },
    {
      "cell_type": "code",
      "metadata": {
        "id": "oCbvvbk6x6mq",
        "colab_type": "code",
        "colab": {
          "base_uri": "https://localhost:8080/",
          "height": 34
        },
        "outputId": "81bde141-ec71-4949-d230-b07d44a4536c"
      },
      "source": [
        "y_train.shape"
      ],
      "execution_count": 103,
      "outputs": [
        {
          "output_type": "execute_result",
          "data": {
            "text/plain": [
              "(375,)"
            ]
          },
          "metadata": {
            "tags": []
          },
          "execution_count": 103
        }
      ]
    },
    {
      "cell_type": "markdown",
      "metadata": {
        "id": "hR1wWHZ5x6mt",
        "colab_type": "text"
      },
      "source": [
        "## Try XGBoost with these features"
      ]
    },
    {
      "cell_type": "code",
      "metadata": {
        "id": "yRMzgstLx6mt",
        "colab_type": "code",
        "colab": {
          "base_uri": "https://localhost:8080/",
          "height": 136
        },
        "outputId": "a5e972d6-61bf-4cfa-b52e-ae542fec96ff"
      },
      "source": [
        "model = xgb.XGBClassifier(n_estimators=10, max_depth=3,\n",
        "                              random_state=21)\n",
        "model.fit(X_train, y_train)"
      ],
      "execution_count": 104,
      "outputs": [
        {
          "output_type": "execute_result",
          "data": {
            "text/plain": [
              "XGBClassifier(base_score=0.5, booster='gbtree', colsample_bylevel=1,\n",
              "              colsample_bynode=1, colsample_bytree=1, gamma=0,\n",
              "              learning_rate=0.1, max_delta_step=0, max_depth=3,\n",
              "              min_child_weight=1, missing=None, n_estimators=10, n_jobs=1,\n",
              "              nthread=None, objective='multi:softprob', random_state=21,\n",
              "              reg_alpha=0, reg_lambda=1, scale_pos_weight=1, seed=None,\n",
              "              silent=None, subsample=1, verbosity=1)"
            ]
          },
          "metadata": {
            "tags": []
          },
          "execution_count": 104
        }
      ]
    },
    {
      "cell_type": "code",
      "metadata": {
        "id": "kcZ3ZKKpx6mx",
        "colab_type": "code",
        "colab": {
          "base_uri": "https://localhost:8080/",
          "height": 34
        },
        "outputId": "5e864c68-aa6f-4141-edd7-75dc8a159429"
      },
      "source": [
        "model.score(X_test, y_test)"
      ],
      "execution_count": 105,
      "outputs": [
        {
          "output_type": "execute_result",
          "data": {
            "text/plain": [
              "0.648"
            ]
          },
          "metadata": {
            "tags": []
          },
          "execution_count": 105
        }
      ]
    },
    {
      "cell_type": "code",
      "metadata": {
        "id": "Yf5eUVwux6m2",
        "colab_type": "code",
        "colab": {
          "base_uri": "https://localhost:8080/",
          "height": 34
        },
        "outputId": "2e6f2e6a-e2db-4ec6-ad1d-e5d2a7c25eaf"
      },
      "source": [
        "model.score(X_train, y_train)"
      ],
      "execution_count": 106,
      "outputs": [
        {
          "output_type": "execute_result",
          "data": {
            "text/plain": [
              "0.752"
            ]
          },
          "metadata": {
            "tags": []
          },
          "execution_count": 106
        }
      ]
    },
    {
      "cell_type": "code",
      "metadata": {
        "id": "Y8S3c680x6m6",
        "colab_type": "code",
        "colab": {
          "base_uri": "https://localhost:8080/",
          "height": 312
        },
        "outputId": "6241636c-2509-4f0e-a12d-a473d6b61bc4"
      },
      "source": [
        "xgb.plot_importance(model)"
      ],
      "execution_count": 107,
      "outputs": [
        {
          "output_type": "execute_result",
          "data": {
            "text/plain": [
              "<matplotlib.axes._subplots.AxesSubplot at 0x7fac22c83780>"
            ]
          },
          "metadata": {
            "tags": []
          },
          "execution_count": 107
        },
        {
          "output_type": "display_data",
          "data": {
            "image/png": "[encoded data removed]",
            "text/plain": [
              "<Figure size 432x288 with 1 Axes>"
            ]
          },
          "metadata": {
            "tags": [],
            "needs_background": "light"
          }
        }
      ]
    },
    {
      "cell_type": "markdown",
      "metadata": {
        "id": "TlTzWatWx6m9",
        "colab_type": "text"
      },
      "source": [
        "## Time Series Forecasting with Decision Trees"
      ]
    },
    {
      "cell_type": "code",
      "metadata": {
        "id": "pYBAV-sd1KiG",
        "colab_type": "code",
        "colab": {
          "base_uri": "https://localhost:8080/",
          "height": 34
        },
        "outputId": "59d729ba-0364-441a-b80b-05d488f9503d"
      },
      "source": [
        "%ls"
      ],
      "execution_count": 110,
      "outputs": [
        {
          "output_type": "stream",
          "text": [
            "\u001b[0m\u001b[01;34mCh02\u001b[0m/  \u001b[01;34mCh03\u001b[0m/  \u001b[01;34mCh04\u001b[0m/  \u001b[01;34mCh07\u001b[0m/  \u001b[01;34mCh09\u001b[0m/  \u001b[01;34mCh10\u001b[0m/  \u001b[01;34mCh14\u001b[0m/  README.md\n"
          ],
          "name": "stdout"
        }
      ]
    },
    {
      "cell_type": "code",
      "metadata": {
        "id": "rh4EV0A_x6m-",
        "colab_type": "code",
        "colab": {}
      },
      "source": [
        "#ap = pd.read_csv(\"Ch02/data/AirPassengers.csv\", parse_dates=[0])\n",
        "ap = pd.read_csv(\"Ch02/data/AirPassengers.csv\", parse_dates=[0], names=['Month', 'Passengers'])"
      ],
      "execution_count": 0,
      "outputs": []
    },
    {
      "cell_type": "code",
      "metadata": {
        "id": "h046rp0Ox6nF",
        "colab_type": "code",
        "colab": {}
      },
      "source": [
        "ap.set_index('Month', inplace=True)"
      ],
      "execution_count": 0,
      "outputs": []
    },
    {
      "cell_type": "code",
      "metadata": {
        "id": "kgYdRukxx6nJ",
        "colab_type": "code",
        "colab": {
          "base_uri": "https://localhost:8080/",
          "height": 235
        },
        "outputId": "9532a1a2-d528-4c4f-dfbc-f79b97b62e0e"
      },
      "source": [
        "ap.head()"
      ],
      "execution_count": 119,
      "outputs": [
        {
          "output_type": "execute_result",
          "data": {
            "text/html": [
              "<div>\n",
              "<style scoped>\n",
              "    .dataframe tbody tr th:only-of-type {\n",
              "        vertical-align: middle;\n",
              "    }\n",
              "\n",
              "    .dataframe tbody tr th {\n",
              "        vertical-align: top;\n",
              "    }\n",
              "\n",
              "    .dataframe thead th {\n",
              "        text-align: right;\n",
              "    }\n",
              "</style>\n",
              "<table border=\"1\" class=\"dataframe\">\n",
              "  <thead>\n",
              "    <tr style=\"text-align: right;\">\n",
              "      <th></th>\n",
              "      <th>Passengers</th>\n",
              "    </tr>\n",
              "    <tr>\n",
              "      <th>Month</th>\n",
              "      <th></th>\n",
              "    </tr>\n",
              "  </thead>\n",
              "  <tbody>\n",
              "    <tr>\n",
              "      <th>1949-01-01</th>\n",
              "      <td>112</td>\n",
              "    </tr>\n",
              "    <tr>\n",
              "      <th>1949-02-01</th>\n",
              "      <td>118</td>\n",
              "    </tr>\n",
              "    <tr>\n",
              "      <th>1949-03-01</th>\n",
              "      <td>132</td>\n",
              "    </tr>\n",
              "    <tr>\n",
              "      <th>1949-04-01</th>\n",
              "      <td>129</td>\n",
              "    </tr>\n",
              "    <tr>\n",
              "      <th>1949-05-01</th>\n",
              "      <td>121</td>\n",
              "    </tr>\n",
              "  </tbody>\n",
              "</table>\n",
              "</div>"
            ],
            "text/plain": [
              "            Passengers\n",
              "Month                 \n",
              "1949-01-01         112\n",
              "1949-02-01         118\n",
              "1949-03-01         132\n",
              "1949-04-01         129\n",
              "1949-05-01         121"
            ]
          },
          "metadata": {
            "tags": []
          },
          "execution_count": 119
        }
      ]
    },
    {
      "cell_type": "code",
      "metadata": {
        "id": "ObgrA153x6nL",
        "colab_type": "code",
        "colab": {
          "base_uri": "https://localhost:8080/",
          "height": 282
        },
        "outputId": "e775906d-cb97-451e-ab7c-fd97fdbc5d75"
      },
      "source": [
        "plt.plot(ap)"
      ],
      "execution_count": 120,
      "outputs": [
        {
          "output_type": "execute_result",
          "data": {
            "text/plain": [
              "[<matplotlib.lines.Line2D at 0x7fac22ac7d68>]"
            ]
          },
          "metadata": {
            "tags": []
          },
          "execution_count": 120
        },
        {
          "output_type": "display_data",
          "data": {
            "image/png": "[encoded data removed]",
            "text/plain": [
              "<Figure size 432x288 with 1 Axes>"
            ]
          },
          "metadata": {
            "tags": [],
            "needs_background": "light"
          }
        }
      ]
    },
    {
      "cell_type": "code",
      "metadata": {
        "id": "WVYULoKhx6nO",
        "colab_type": "code",
        "colab": {
          "base_uri": "https://localhost:8080/",
          "height": 282
        },
        "outputId": "a8c35f07-179e-4133-f0b4-f60fc4d18572"
      },
      "source": [
        "plt.plot(np.diff(np.log(ap.values[:, 0])))"
      ],
      "execution_count": 121,
      "outputs": [
        {
          "output_type": "execute_result",
          "data": {
            "text/plain": [
              "[<matplotlib.lines.Line2D at 0x7fac22a3fcc0>]"
            ]
          },
          "metadata": {
            "tags": []
          },
          "execution_count": 121
        },
        {
          "output_type": "display_data",
          "data": {
            "image/png": "[encoded data removed]",
            "text/plain": [
              "<Figure size 432x288 with 1 Axes>"
            ]
          },
          "metadata": {
            "tags": [],
            "needs_background": "light"
          }
        }
      ]
    },
    {
      "cell_type": "code",
      "metadata": {
        "id": "BPkVMY6tx6nS",
        "colab_type": "code",
        "colab": {}
      },
      "source": [
        "ts = np.diff(np.log(ap.values[:, 0]))"
      ],
      "execution_count": 0,
      "outputs": []
    },
    {
      "cell_type": "markdown",
      "metadata": {
        "id": "ytz9HUSyx6nU",
        "colab_type": "text"
      },
      "source": [
        "## Exercise: now that we have 1 time series, how can we convert it to many samples?"
      ]
    },
    {
      "cell_type": "code",
      "metadata": {
        "id": "JH1px9v0x6nX",
        "colab_type": "code",
        "colab": {}
      },
      "source": [
        "NSTEPS = 12"
      ],
      "execution_count": 0,
      "outputs": []
    },
    {
      "cell_type": "code",
      "metadata": {
        "id": "bmzST_Aex6nb",
        "colab_type": "code",
        "colab": {
          "base_uri": "https://localhost:8080/",
          "height": 34
        },
        "outputId": "f86753dc-7a6b-4c9b-96fe-6038a405eac6"
      },
      "source": [
        "ts.shape"
      ],
      "execution_count": 124,
      "outputs": [
        {
          "output_type": "execute_result",
          "data": {
            "text/plain": [
              "(143,)"
            ]
          },
          "metadata": {
            "tags": []
          },
          "execution_count": 124
        }
      ]
    },
    {
      "cell_type": "code",
      "metadata": {
        "id": "vR3vW0BQx6ne",
        "colab_type": "code",
        "colab": {}
      },
      "source": [
        "vals = np.hstack([np.expand_dims(np.array(ts, dtype = np.float32), axis = 1) for _ in range(NSTEPS )])"
      ],
      "execution_count": 0,
      "outputs": []
    },
    {
      "cell_type": "code",
      "metadata": {
        "id": "YWuwAo6Fx6nj",
        "colab_type": "code",
        "colab": {
          "base_uri": "https://localhost:8080/",
          "height": 68
        },
        "outputId": "f9201b5c-115c-4f6b-9150-28368216b514"
      },
      "source": [
        "ts[0:NSTEPS]"
      ],
      "execution_count": 126,
      "outputs": [
        {
          "output_type": "execute_result",
          "data": {
            "text/plain": [
              "array([ 0.05218575,  0.1121173 , -0.02298952, -0.06402186,  0.10948423,\n",
              "        0.0919375 ,  0.        , -0.08455739, -0.13353139, -0.13473259,\n",
              "        0.12629373, -0.0257525 ])"
            ]
          },
          "metadata": {
            "tags": []
          },
          "execution_count": 126
        }
      ]
    },
    {
      "cell_type": "code",
      "metadata": {
        "id": "rIGBkI-Gx6nl",
        "colab_type": "code",
        "colab": {
          "base_uri": "https://localhost:8080/",
          "height": 34
        },
        "outputId": "73b2f9a5-8b9d-4f3e-a6f7-4c33d6a44b23"
      },
      "source": [
        "vals.shape"
      ],
      "execution_count": 127,
      "outputs": [
        {
          "output_type": "execute_result",
          "data": {
            "text/plain": [
              "(143, 12)"
            ]
          },
          "metadata": {
            "tags": []
          },
          "execution_count": 127
        }
      ]
    },
    {
      "cell_type": "code",
      "metadata": {
        "id": "EyPrFzsIx6nn",
        "colab_type": "code",
        "colab": {}
      },
      "source": [
        "nrow = vals.shape[0]\n",
        "for lag in range(1, vals.shape[1]):\n",
        "    vals[:(nrow - lag),lag] = vals[lag:,lag]\n",
        "    vals[(nrow - lag):, lag] = np.nan"
      ],
      "execution_count": 0,
      "outputs": []
    },
    {
      "cell_type": "code",
      "metadata": {
        "id": "BaPvav7Lx6nr",
        "colab_type": "code",
        "colab": {
          "base_uri": "https://localhost:8080/",
          "height": 238
        },
        "outputId": "23ab9042-a623-4248-a341-6fe5ea5497ee"
      },
      "source": [
        "vals"
      ],
      "execution_count": 129,
      "outputs": [
        {
          "output_type": "execute_result",
          "data": {
            "text/plain": [
              "array([[ 0.05218575,  0.1121173 , -0.02298952, ..., -0.13473259,\n",
              "         0.12629372, -0.0257525 ],\n",
              "       [ 0.1121173 , -0.02298952, -0.06402186, ...,  0.12629372,\n",
              "        -0.0257525 ,  0.09134978],\n",
              "       [-0.02298952, -0.06402186,  0.10948423, ..., -0.0257525 ,\n",
              "         0.09134978,  0.11247798],\n",
              "       ...,\n",
              "       [-0.0970834 , -0.1672513 ,  0.10227885, ...,         nan,\n",
              "                nan,         nan],\n",
              "       [-0.1672513 ,  0.10227885,         nan, ...,         nan,\n",
              "                nan,         nan],\n",
              "       [ 0.10227885,         nan,         nan, ...,         nan,\n",
              "                nan,         nan]], dtype=float32)"
            ]
          },
          "metadata": {
            "tags": []
          },
          "execution_count": 129
        }
      ]
    },
    {
      "cell_type": "code",
      "metadata": {
        "id": "FVPw0Nz3x6nt",
        "colab_type": "code",
        "colab": {}
      },
      "source": [
        "vals = vals[:(vals.shape[0] - NSTEPS + 1), :]"
      ],
      "execution_count": 0,
      "outputs": []
    },
    {
      "cell_type": "code",
      "metadata": {
        "id": "Rgps8IfJx6nw",
        "colab_type": "code",
        "colab": {
          "base_uri": "https://localhost:8080/",
          "height": 34
        },
        "outputId": "abefc260-8720-4e34-f101-7cde3445f9c4"
      },
      "source": [
        "vals.shape"
      ],
      "execution_count": 131,
      "outputs": [
        {
          "output_type": "execute_result",
          "data": {
            "text/plain": [
              "(132, 12)"
            ]
          },
          "metadata": {
            "tags": []
          },
          "execution_count": 131
        }
      ]
    },
    {
      "cell_type": "code",
      "metadata": {
        "id": "3lz-Ui-fx6nz",
        "colab_type": "code",
        "colab": {
          "base_uri": "https://localhost:8080/",
          "height": 68
        },
        "outputId": "7b533d89-943d-4974-f5ff-8e94a300cef7"
      },
      "source": [
        "vals[-1]"
      ],
      "execution_count": 132,
      "outputs": [
        {
          "output_type": "execute_result",
          "data": {
            "text/plain": [
              "array([ 0.02919916, -0.06437866,  0.06916336,  0.09552712,  0.02358094,\n",
              "        0.12528776,  0.15067334, -0.02606011, -0.17639855, -0.0970834 ,\n",
              "       -0.1672513 ,  0.10227885], dtype=float32)"
            ]
          },
          "metadata": {
            "tags": []
          },
          "execution_count": 132
        }
      ]
    },
    {
      "cell_type": "code",
      "metadata": {
        "id": "LxlYt4XDx6n2",
        "colab_type": "code",
        "colab": {
          "base_uri": "https://localhost:8080/",
          "height": 68
        },
        "outputId": "76b0db51-a8a1-461b-b89a-79ad2baa07e7"
      },
      "source": [
        "ts[-NSTEPS:]"
      ],
      "execution_count": 133,
      "outputs": [
        {
          "output_type": "execute_result",
          "data": {
            "text/plain": [
              "array([ 0.02919915, -0.06437866,  0.06916336,  0.09552712,  0.02358094,\n",
              "        0.12528776,  0.15067335, -0.02606011, -0.17639854, -0.0970834 ,\n",
              "       -0.1672513 ,  0.10227885])"
            ]
          },
          "metadata": {
            "tags": []
          },
          "execution_count": 133
        }
      ]
    },
    {
      "cell_type": "code",
      "metadata": {
        "id": "3ILpiM4Tx6n6",
        "colab_type": "code",
        "colab": {
          "base_uri": "https://localhost:8080/",
          "height": 34
        },
        "outputId": "53579e96-b0dd-4a1e-a4f3-2e5f5e7cf646"
      },
      "source": [
        "vals.shape"
      ],
      "execution_count": 134,
      "outputs": [
        {
          "output_type": "execute_result",
          "data": {
            "text/plain": [
              "(132, 12)"
            ]
          },
          "metadata": {
            "tags": []
          },
          "execution_count": 134
        }
      ]
    },
    {
      "cell_type": "markdown",
      "metadata": {
        "id": "0-YWqwTzx6n8",
        "colab_type": "text"
      },
      "source": [
        "## Exercise: now that we have the time series broken down into a set of samples, how to featurize?"
      ]
    },
    {
      "cell_type": "code",
      "metadata": {
        "id": "TPbW9xXOx6n_",
        "colab_type": "code",
        "colab": {}
      },
      "source": [
        "measures = [vals[i][0:(NSTEPS - 1)] for i in range(vals.shape[0])]"
      ],
      "execution_count": 0,
      "outputs": []
    },
    {
      "cell_type": "code",
      "metadata": {
        "id": "EJdS8dRwx6oB",
        "colab_type": "code",
        "colab": {}
      },
      "source": [
        "times = [[j for j in range(NSTEPS - 1)] for i in range(vals.shape[0])]"
      ],
      "execution_count": 0,
      "outputs": []
    },
    {
      "cell_type": "code",
      "metadata": {
        "id": "nXEGGp5Tx6oE",
        "colab_type": "code",
        "colab": {
          "base_uri": "https://localhost:8080/",
          "height": 68
        },
        "outputId": "0fd90499-3bad-4ec9-ab96-465bc75fd312"
      },
      "source": [
        "measures[0]"
      ],
      "execution_count": 137,
      "outputs": [
        {
          "output_type": "execute_result",
          "data": {
            "text/plain": [
              "array([ 0.05218575,  0.1121173 , -0.02298952, -0.06402186,  0.10948423,\n",
              "        0.0919375 ,  0.        , -0.08455739, -0.13353139, -0.13473259,\n",
              "        0.12629372], dtype=float32)"
            ]
          },
          "metadata": {
            "tags": []
          },
          "execution_count": 137
        }
      ]
    },
    {
      "cell_type": "code",
      "metadata": {
        "id": "TF2tlGVCx6oG",
        "colab_type": "code",
        "colab": {
          "base_uri": "https://localhost:8080/",
          "height": 34
        },
        "outputId": "91414e2f-ec45-4cca-d330-c2103e631a6e"
      },
      "source": [
        "len(measures[0])"
      ],
      "execution_count": 138,
      "outputs": [
        {
          "output_type": "execute_result",
          "data": {
            "text/plain": [
              "11"
            ]
          },
          "metadata": {
            "tags": []
          },
          "execution_count": 138
        }
      ]
    },
    {
      "cell_type": "code",
      "metadata": {
        "id": "ZVVXvHOnx6oI",
        "colab_type": "code",
        "colab": {}
      },
      "source": [
        "features_to_use = [\n",
        "                   \"amplitude\",\n",
        "                   \"percent_beyond_1_std\",\n",
        "                   \"skew\",\n",
        "                   \"max_slope\",\n",
        "                   \"percent_amplitude\"]\n",
        "fset_ap = ft.featurize_time_series(times=times,\n",
        "                                    values=measures,\n",
        "                                    errors=None,\n",
        "                                    features_to_use=features_to_use,\n",
        "                                    scheduler = None)"
      ],
      "execution_count": 0,
      "outputs": []
    },
    {
      "cell_type": "code",
      "metadata": {
        "id": "CkRLMkNMx6oN",
        "colab_type": "code",
        "colab": {}
      },
      "source": [
        "fset_ap.columns = fset_ap.columns.droplevel(-1)"
      ],
      "execution_count": 0,
      "outputs": []
    },
    {
      "cell_type": "code",
      "metadata": {
        "id": "ZrmRma4Mx6oQ",
        "colab_type": "code",
        "colab": {
          "base_uri": "https://localhost:8080/",
          "height": 224
        },
        "outputId": "bfc6bc09-ef13-49ad-ce39-a3412aa16572"
      },
      "source": [
        "fset_ap.head()"
      ],
      "execution_count": 141,
      "outputs": [
        {
          "output_type": "execute_result",
          "data": {
            "text/html": [
              "<div>\n",
              "<style scoped>\n",
              "    .dataframe tbody tr th:only-of-type {\n",
              "        vertical-align: middle;\n",
              "    }\n",
              "\n",
              "    .dataframe tbody tr th {\n",
              "        vertical-align: top;\n",
              "    }\n",
              "\n",
              "    .dataframe thead th {\n",
              "        text-align: right;\n",
              "    }\n",
              "</style>\n",
              "<table border=\"1\" class=\"dataframe\">\n",
              "  <thead>\n",
              "    <tr style=\"text-align: right;\">\n",
              "      <th>feature</th>\n",
              "      <th>amplitude</th>\n",
              "      <th>percent_beyond_1_std</th>\n",
              "      <th>skew</th>\n",
              "      <th>max_slope</th>\n",
              "      <th>percent_amplitude</th>\n",
              "    </tr>\n",
              "  </thead>\n",
              "  <tbody>\n",
              "    <tr>\n",
              "      <th>0</th>\n",
              "      <td>0.130513</td>\n",
              "      <td>0.454545</td>\n",
              "      <td>-0.155365</td>\n",
              "      <td>0.261026</td>\n",
              "      <td>0.132121</td>\n",
              "    </tr>\n",
              "    <tr>\n",
              "      <th>1</th>\n",
              "      <td>0.130513</td>\n",
              "      <td>0.545455</td>\n",
              "      <td>0.051772</td>\n",
              "      <td>0.261026</td>\n",
              "      <td>0.128461</td>\n",
              "    </tr>\n",
              "    <tr>\n",
              "      <th>2</th>\n",
              "      <td>0.130513</td>\n",
              "      <td>0.545455</td>\n",
              "      <td>0.037850</td>\n",
              "      <td>0.261026</td>\n",
              "      <td>0.128461</td>\n",
              "    </tr>\n",
              "    <tr>\n",
              "      <th>3</th>\n",
              "      <td>0.130513</td>\n",
              "      <td>0.454545</td>\n",
              "      <td>-0.192651</td>\n",
              "      <td>0.261026</td>\n",
              "      <td>0.132121</td>\n",
              "    </tr>\n",
              "    <tr>\n",
              "      <th>4</th>\n",
              "      <td>0.130513</td>\n",
              "      <td>0.454545</td>\n",
              "      <td>-0.233966</td>\n",
              "      <td>0.261026</td>\n",
              "      <td>0.132121</td>\n",
              "    </tr>\n",
              "  </tbody>\n",
              "</table>\n",
              "</div>"
            ],
            "text/plain": [
              "feature  amplitude  percent_beyond_1_std  ...  max_slope  percent_amplitude\n",
              "0         0.130513              0.454545  ...   0.261026           0.132121\n",
              "1         0.130513              0.545455  ...   0.261026           0.128461\n",
              "2         0.130513              0.545455  ...   0.261026           0.128461\n",
              "3         0.130513              0.454545  ...   0.261026           0.132121\n",
              "4         0.130513              0.454545  ...   0.261026           0.132121\n",
              "\n",
              "[5 rows x 5 columns]"
            ]
          },
          "metadata": {
            "tags": []
          },
          "execution_count": 141
        }
      ]
    },
    {
      "cell_type": "code",
      "metadata": {
        "id": "lqvDl3ckx6oS",
        "colab_type": "code",
        "colab": {
          "base_uri": "https://localhost:8080/",
          "height": 350
        },
        "outputId": "81112008-7242-4cce-ee8f-c37bf3d8a80f"
      },
      "source": [
        "plt.hist(fset_ap.amplitude)"
      ],
      "execution_count": 142,
      "outputs": [
        {
          "output_type": "execute_result",
          "data": {
            "text/plain": [
              "(array([15.,  7.,  5., 23., 26., 17.,  6.,  6., 16., 11.]),\n",
              " array([0.12786029, 0.1352786 , 0.14269691, 0.15011522, 0.15753352,\n",
              "        0.16495183, 0.17237014, 0.17978845, 0.18720675, 0.19462506,\n",
              "        0.20204337]),\n",
              " <a list of 10 Patch objects>)"
            ]
          },
          "metadata": {
            "tags": []
          },
          "execution_count": 142
        },
        {
          "output_type": "display_data",
          "data": {
            "image/png": "[encoded data removed]",
            "text/plain": [
              "<Figure size 432x288 with 1 Axes>"
            ]
          },
          "metadata": {
            "tags": [],
            "needs_background": "light"
          }
        }
      ]
    },
    {
      "cell_type": "code",
      "metadata": {
        "id": "yYx3nCdGx6oU",
        "colab_type": "code",
        "colab": {
          "base_uri": "https://localhost:8080/",
          "height": 350
        },
        "outputId": "1dab1b79-38c2-4da9-dcfa-0c4e66035f17"
      },
      "source": [
        "plt.hist(fset_ap.percent_amplitude)"
      ],
      "execution_count": 143,
      "outputs": [
        {
          "output_type": "execute_result",
          "data": {
            "text/plain": [
              "(array([16., 40., 35.,  4., 15.,  9.,  1.,  9.,  2.,  1.]),\n",
              " array([0.12414427, 0.14138614, 0.15862801, 0.17586988, 0.19311176,\n",
              "        0.21035363, 0.2275955 , 0.24483737, 0.26207924, 0.27932111,\n",
              "        0.29656298]),\n",
              " <a list of 10 Patch objects>)"
            ]
          },
          "metadata": {
            "tags": []
          },
          "execution_count": 143
        },
        {
          "output_type": "display_data",
          "data": {
            "image/png": "[encoded data removed]",
            "text/plain": [
              "<Figure size 432x288 with 1 Axes>"
            ]
          },
          "metadata": {
            "tags": [],
            "needs_background": "light"
          }
        }
      ]
    },
    {
      "cell_type": "code",
      "metadata": {
        "id": "mpYr2CY4x6oW",
        "colab_type": "code",
        "colab": {
          "base_uri": "https://localhost:8080/",
          "height": 350
        },
        "outputId": "a2860f28-c31b-479c-aa3c-e7e1fb9093e8"
      },
      "source": [
        "plt.hist(fset_ap['skew'])"
      ],
      "execution_count": 144,
      "outputs": [
        {
          "output_type": "execute_result",
          "data": {
            "text/plain": [
              "(array([ 9., 11.,  8., 23., 26., 25., 18.,  9.,  2.,  1.]),\n",
              " array([-0.56547007, -0.45117751, -0.33688495, -0.22259239, -0.10829984,\n",
              "         0.00599272,  0.12028528,  0.23457784,  0.3488704 ,  0.46316296,\n",
              "         0.57745551]),\n",
              " <a list of 10 Patch objects>)"
            ]
          },
          "metadata": {
            "tags": []
          },
          "execution_count": 144
        },
        {
          "output_type": "display_data",
          "data": {
            "image/png": "[encoded data removed]",
            "text/plain": [
              "<Figure size 432x288 with 1 Axes>"
            ]
          },
          "metadata": {
            "tags": [],
            "needs_background": "light"
          }
        }
      ]
    },
    {
      "cell_type": "markdown",
      "metadata": {
        "id": "ymUKQEdvx6oZ",
        "colab_type": "text"
      },
      "source": [
        "## Exercise: can you fit an XGBRegressor to this problem? Let's use the first 100 'time series' as the training data"
      ]
    },
    {
      "cell_type": "code",
      "metadata": {
        "id": "ZqlQ4KLOx6oZ",
        "colab_type": "code",
        "colab": {}
      },
      "source": [
        "outcomes = vals[:, -1]"
      ],
      "execution_count": 0,
      "outputs": []
    },
    {
      "cell_type": "code",
      "metadata": {
        "id": "cV-3WAghx6ob",
        "colab_type": "code",
        "colab": {}
      },
      "source": [
        "X_train, y_train = fset_ap.iloc[:100, :], outcomes[:100]\n",
        "X_test, y_test   = fset_ap.iloc[100:, :], outcomes[100:]"
      ],
      "execution_count": 0,
      "outputs": []
    },
    {
      "cell_type": "code",
      "metadata": {
        "id": "mWvFd17Ix6oe",
        "colab_type": "code",
        "colab": {
          "base_uri": "https://localhost:8080/",
          "height": 34
        },
        "outputId": "87530d3a-6d9b-4422-9330-f40d5ce65c62"
      },
      "source": [
        "X_train.shape"
      ],
      "execution_count": 147,
      "outputs": [
        {
          "output_type": "execute_result",
          "data": {
            "text/plain": [
              "(100, 5)"
            ]
          },
          "metadata": {
            "tags": []
          },
          "execution_count": 147
        }
      ]
    },
    {
      "cell_type": "code",
      "metadata": {
        "id": "ww33ubf8x6og",
        "colab_type": "code",
        "colab": {}
      },
      "source": [
        "model = xgb.XGBRegressor(n_estimators=20, max_depth=2,\n",
        "                              random_state=21)"
      ],
      "execution_count": 0,
      "outputs": []
    },
    {
      "cell_type": "code",
      "metadata": {
        "id": "ZXFKOllnx6oi",
        "colab_type": "code",
        "colab": {
          "base_uri": "https://localhost:8080/",
          "height": 547
        },
        "outputId": "c634d6dc-90de-4133-c53e-d0953e7c0223"
      },
      "source": [
        "eval_set = [(X_test, y_test)]\n",
        "model.fit(X_train, y_train, eval_metric=\"rmse\", eval_set=eval_set, verbose=True)"
      ],
      "execution_count": 149,
      "outputs": [
        {
          "output_type": "stream",
          "text": [
            "[07:20:50] WARNING: /workspace/src/objective/regression_obj.cu:152: reg:linear is now deprecated in favor of reg:squarederror.\n",
            "[0]\tvalidation_0-rmse:0.454853\n",
            "[1]\tvalidation_0-rmse:0.408914\n",
            "[2]\tvalidation_0-rmse:0.367291\n",
            "[3]\tvalidation_0-rmse:0.330652\n",
            "[4]\tvalidation_0-rmse:0.297609\n",
            "[5]\tvalidation_0-rmse:0.269572\n",
            "[6]\tvalidation_0-rmse:0.241831\n",
            "[7]\tvalidation_0-rmse:0.219749\n",
            "[8]\tvalidation_0-rmse:0.198331\n",
            "[9]\tvalidation_0-rmse:0.178537\n",
            "[10]\tvalidation_0-rmse:0.161809\n",
            "[11]\tvalidation_0-rmse:0.149125\n",
            "[12]\tvalidation_0-rmse:0.137653\n",
            "[13]\tvalidation_0-rmse:0.128714\n",
            "[14]\tvalidation_0-rmse:0.122771\n",
            "[15]\tvalidation_0-rmse:0.118241\n",
            "[16]\tvalidation_0-rmse:0.114619\n",
            "[17]\tvalidation_0-rmse:0.112702\n",
            "[18]\tvalidation_0-rmse:0.112149\n",
            "[19]\tvalidation_0-rmse:0.112382\n"
          ],
          "name": "stdout"
        },
        {
          "output_type": "stream",
          "text": [
            "/usr/local/lib/python3.6/dist-packages/xgboost/core.py:614: UserWarning: Use subset (sliced data) of np.ndarray is not recommended because it will generate extra copies and increase memory consumption\n",
            "  \"because it will generate extra copies and increase memory consumption\")\n"
          ],
          "name": "stderr"
        },
        {
          "output_type": "execute_result",
          "data": {
            "text/plain": [
              "XGBRegressor(base_score=0.5, booster='gbtree', colsample_bylevel=1,\n",
              "             colsample_bynode=1, colsample_bytree=1, gamma=0,\n",
              "             importance_type='gain', learning_rate=0.1, max_delta_step=0,\n",
              "             max_depth=2, min_child_weight=1, missing=None, n_estimators=20,\n",
              "             n_jobs=1, nthread=None, objective='reg:linear', random_state=21,\n",
              "             reg_alpha=0, reg_lambda=1, scale_pos_weight=1, seed=None,\n",
              "             silent=None, subsample=1, verbosity=1)"
            ]
          },
          "metadata": {
            "tags": []
          },
          "execution_count": 149
        }
      ]
    },
    {
      "cell_type": "markdown",
      "metadata": {
        "id": "PctjCXq3x6ok",
        "colab_type": "text"
      },
      "source": [
        "### RMSE can be hard to digest .... How does the model perform?"
      ]
    },
    {
      "cell_type": "code",
      "metadata": {
        "id": "_3_lLpYwx6ok",
        "colab_type": "code",
        "colab": {
          "base_uri": "https://localhost:8080/",
          "height": 286
        },
        "outputId": "58a24421-8b8b-4763-90fe-6e4a26cd5251"
      },
      "source": [
        "plt.scatter(model.predict(X_test), y_test)"
      ],
      "execution_count": 150,
      "outputs": [
        {
          "output_type": "execute_result",
          "data": {
            "text/plain": [
              "<matplotlib.collections.PathCollection at 0x7fac239c6d30>"
            ]
          },
          "metadata": {
            "tags": []
          },
          "execution_count": 150
        },
        {
          "output_type": "display_data",
          "data": {
            "image/png": "[encoded data removed]",
            "text/plain": [
              "<Figure size 432x288 with 1 Axes>"
            ]
          },
          "metadata": {
            "tags": [],
            "needs_background": "light"
          }
        }
      ]
    },
    {
      "cell_type": "code",
      "metadata": {
        "id": "8fg4VBEEx6on",
        "colab_type": "code",
        "colab": {
          "base_uri": "https://localhost:8080/",
          "height": 282
        },
        "outputId": "cf7a7d4b-1fbb-4e45-c685-306b6d1d5b60"
      },
      "source": [
        "plt.scatter(model.predict(X_train), y_train)"
      ],
      "execution_count": 151,
      "outputs": [
        {
          "output_type": "execute_result",
          "data": {
            "text/plain": [
              "<matplotlib.collections.PathCollection at 0x7fac22d993c8>"
            ]
          },
          "metadata": {
            "tags": []
          },
          "execution_count": 151
        },
        {
          "output_type": "display_data",
          "data": {
            "image/png": "[encoded data removed]",
            "text/plain": [
              "<Figure size 432x288 with 1 Axes>"
            ]
          },
          "metadata": {
            "tags": [],
            "needs_background": "light"
          }
        }
      ]
    },
    {
      "cell_type": "code",
      "metadata": {
        "id": "rQk1MfAlx6os",
        "colab_type": "code",
        "colab": {
          "base_uri": "https://localhost:8080/",
          "height": 34
        },
        "outputId": "0b0db0c9-bc10-4c40-887f-632fba1d61e0"
      },
      "source": [
        "pearsonr(model.predict(X_train), y_train)"
      ],
      "execution_count": 152,
      "outputs": [
        {
          "output_type": "execute_result",
          "data": {
            "text/plain": [
              "(0.7763253592748394, 2.3452056738489926e-21)"
            ]
          },
          "metadata": {
            "tags": []
          },
          "execution_count": 152
        }
      ]
    },
    {
      "cell_type": "code",
      "metadata": {
        "id": "wbp_SVk8x6ov",
        "colab_type": "code",
        "colab": {
          "base_uri": "https://localhost:8080/",
          "height": 34
        },
        "outputId": "6765974c-f4e4-42fd-eceb-40adedae0041"
      },
      "source": [
        "pearsonr(model.predict(X_test), y_test)"
      ],
      "execution_count": 153,
      "outputs": [
        {
          "output_type": "execute_result",
          "data": {
            "text/plain": [
              "(0.26575179862682674, 0.1415369090490501)"
            ]
          },
          "metadata": {
            "tags": []
          },
          "execution_count": 153
        }
      ]
    },
    {
      "cell_type": "code",
      "metadata": {
        "id": "uhg4OqE4x6ox",
        "colab_type": "code",
        "colab": {
          "base_uri": "https://localhost:8080/",
          "height": 312
        },
        "outputId": "d06234b1-276e-41a2-98b5-b4fe7192f8a2"
      },
      "source": [
        "xgb.plot_importance(model)"
      ],
      "execution_count": 154,
      "outputs": [
        {
          "output_type": "execute_result",
          "data": {
            "text/plain": [
              "<matplotlib.axes._subplots.AxesSubplot at 0x7fac2346a358>"
            ]
          },
          "metadata": {
            "tags": []
          },
          "execution_count": 154
        },
        {
          "output_type": "display_data",
          "data": {
            "image/png": "[encoded data removed]",
            "text/plain": [
              "<Figure size 432x288 with 1 Axes>"
            ]
          },
          "metadata": {
            "tags": [],
            "needs_background": "light"
          }
        }
      ]
    },
    {
      "cell_type": "markdown",
      "metadata": {
        "id": "15GF1dpGx6o0",
        "colab_type": "text"
      },
      "source": [
        "### What went wrong? Let's revisit the feature set"
      ]
    },
    {
      "cell_type": "code",
      "metadata": {
        "id": "OPlTboOfx6o0",
        "colab_type": "code",
        "colab": {
          "base_uri": "https://localhost:8080/",
          "height": 224
        },
        "outputId": "4cfb7198-6ab4-401c-9dc4-e4279ffd16ee"
      },
      "source": [
        "fset_ap.head()"
      ],
      "execution_count": 155,
      "outputs": [
        {
          "output_type": "execute_result",
          "data": {
            "text/html": [
              "<div>\n",
              "<style scoped>\n",
              "    .dataframe tbody tr th:only-of-type {\n",
              "        vertical-align: middle;\n",
              "    }\n",
              "\n",
              "    .dataframe tbody tr th {\n",
              "        vertical-align: top;\n",
              "    }\n",
              "\n",
              "    .dataframe thead th {\n",
              "        text-align: right;\n",
              "    }\n",
              "</style>\n",
              "<table border=\"1\" class=\"dataframe\">\n",
              "  <thead>\n",
              "    <tr style=\"text-align: right;\">\n",
              "      <th>feature</th>\n",
              "      <th>amplitude</th>\n",
              "      <th>percent_beyond_1_std</th>\n",
              "      <th>skew</th>\n",
              "      <th>max_slope</th>\n",
              "      <th>percent_amplitude</th>\n",
              "    </tr>\n",
              "  </thead>\n",
              "  <tbody>\n",
              "    <tr>\n",
              "      <th>0</th>\n",
              "      <td>0.130513</td>\n",
              "      <td>0.454545</td>\n",
              "      <td>-0.155365</td>\n",
              "      <td>0.261026</td>\n",
              "      <td>0.132121</td>\n",
              "    </tr>\n",
              "    <tr>\n",
              "      <th>1</th>\n",
              "      <td>0.130513</td>\n",
              "      <td>0.545455</td>\n",
              "      <td>0.051772</td>\n",
              "      <td>0.261026</td>\n",
              "      <td>0.128461</td>\n",
              "    </tr>\n",
              "    <tr>\n",
              "      <th>2</th>\n",
              "      <td>0.130513</td>\n",
              "      <td>0.545455</td>\n",
              "      <td>0.037850</td>\n",
              "      <td>0.261026</td>\n",
              "      <td>0.128461</td>\n",
              "    </tr>\n",
              "    <tr>\n",
              "      <th>3</th>\n",
              "      <td>0.130513</td>\n",
              "      <td>0.454545</td>\n",
              "      <td>-0.192651</td>\n",
              "      <td>0.261026</td>\n",
              "      <td>0.132121</td>\n",
              "    </tr>\n",
              "    <tr>\n",
              "      <th>4</th>\n",
              "      <td>0.130513</td>\n",
              "      <td>0.454545</td>\n",
              "      <td>-0.233966</td>\n",
              "      <td>0.261026</td>\n",
              "      <td>0.132121</td>\n",
              "    </tr>\n",
              "  </tbody>\n",
              "</table>\n",
              "</div>"
            ],
            "text/plain": [
              "feature  amplitude  percent_beyond_1_std  ...  max_slope  percent_amplitude\n",
              "0         0.130513              0.454545  ...   0.261026           0.132121\n",
              "1         0.130513              0.545455  ...   0.261026           0.128461\n",
              "2         0.130513              0.545455  ...   0.261026           0.128461\n",
              "3         0.130513              0.454545  ...   0.261026           0.132121\n",
              "4         0.130513              0.454545  ...   0.261026           0.132121\n",
              "\n",
              "[5 rows x 5 columns]"
            ]
          },
          "metadata": {
            "tags": []
          },
          "execution_count": 155
        }
      ]
    },
    {
      "cell_type": "code",
      "metadata": {
        "id": "7zeRQYY9x6o3",
        "colab_type": "code",
        "colab": {
          "base_uri": "https://localhost:8080/",
          "height": 282
        },
        "outputId": "03a7f8db-8f8e-4cd4-9468-4b087ae5d9ae"
      },
      "source": [
        "plt.plot(vals[0])\n",
        "plt.plot(vals[1])\n",
        "plt.plot(vals[2])"
      ],
      "execution_count": 156,
      "outputs": [
        {
          "output_type": "execute_result",
          "data": {
            "text/plain": [
              "[<matplotlib.lines.Line2D at 0x7fac1d701d30>]"
            ]
          },
          "metadata": {
            "tags": []
          },
          "execution_count": 156
        },
        {
          "output_type": "display_data",
          "data": {
            "image/png": "[encoded data removed]",
            "text/plain": [
              "<Figure size 432x288 with 1 Axes>"
            ]
          },
          "metadata": {
            "tags": [],
            "needs_background": "light"
          }
        }
      ]
    },
    {
      "cell_type": "markdown",
      "metadata": {
        "id": "uB7xeuhqx6o5",
        "colab_type": "text"
      },
      "source": [
        "## We need to find a way to generate features that encode positional information"
      ]
    },
    {
      "cell_type": "markdown",
      "metadata": {
        "id": "hC-0iJg4x6o6",
        "colab_type": "text"
      },
      "source": [
        "### now we will generate our own features"
      ]
    },
    {
      "cell_type": "code",
      "metadata": {
        "id": "WM8BzT_bx6o6",
        "colab_type": "code",
        "colab": {
          "base_uri": "https://localhost:8080/",
          "height": 34
        },
        "outputId": "2d6101c4-d1bb-46a2-9a77-fc970dd4c127"
      },
      "source": [
        "vals.shape"
      ],
      "execution_count": 157,
      "outputs": [
        {
          "output_type": "execute_result",
          "data": {
            "text/plain": [
              "(132, 12)"
            ]
          },
          "metadata": {
            "tags": []
          },
          "execution_count": 157
        }
      ]
    },
    {
      "cell_type": "code",
      "metadata": {
        "id": "ls-wp2zbx6o8",
        "colab_type": "code",
        "colab": {}
      },
      "source": [
        "feats = np.zeros( (vals.shape[0], 6), dtype = np.float32)\n",
        "for i in range(vals.shape[0]):\n",
        "    feats[i, 0] = np.where(vals[i] == np.max(vals[i]))[0][0]\n",
        "    feats[i, 1] = np.where(vals[i] == np.min(vals[i]))[0][0]\n",
        "    feats[i, 2] = feats[i, 0] - feats[i, 1]\n",
        "    feats[i, 3] = np.max(vals[i][-3:])\n",
        "    feats[i, 4] = vals[i][-1] - vals[i][-2]\n",
        "    feats[i, 5] = vals[i][-1] - vals[i][-3]"
      ],
      "execution_count": 0,
      "outputs": []
    },
    {
      "cell_type": "code",
      "metadata": {
        "id": "ejUFuZBLx6o-",
        "colab_type": "code",
        "colab": {
          "base_uri": "https://localhost:8080/",
          "height": 119
        },
        "outputId": "e90bfbbe-272a-4c97-af3a-56fc5b8af1dc"
      },
      "source": [
        "feats[0:3]"
      ],
      "execution_count": 159,
      "outputs": [
        {
          "output_type": "execute_result",
          "data": {
            "text/plain": [
              "array([[10.        ,  9.        ,  1.        ,  0.12629372, -0.15204622,\n",
              "         0.10898009],\n",
              "       [ 9.        ,  8.        ,  1.        ,  0.12629372,  0.11710228,\n",
              "        -0.03494394],\n",
              "       [ 8.        ,  7.        ,  1.        ,  0.11247798,  0.0211282 ,\n",
              "         0.13823047]], dtype=float32)"
            ]
          },
          "metadata": {
            "tags": []
          },
          "execution_count": 159
        }
      ]
    },
    {
      "cell_type": "markdown",
      "metadata": {
        "id": "xov3Yej1x6pA",
        "colab_type": "text"
      },
      "source": [
        "### How do these look compared to the first set of features?"
      ]
    },
    {
      "cell_type": "code",
      "metadata": {
        "id": "1G0gyZKdx6pB",
        "colab_type": "code",
        "colab": {
          "base_uri": "https://localhost:8080/",
          "height": 142
        },
        "outputId": "9add847e-d0dc-49de-d8e5-7d86b0ff49a1"
      },
      "source": [
        "pd.DataFrame(feats[0:3])"
      ],
      "execution_count": 160,
      "outputs": [
        {
          "output_type": "execute_result",
          "data": {
            "text/html": [
              "<div>\n",
              "<style scoped>\n",
              "    .dataframe tbody tr th:only-of-type {\n",
              "        vertical-align: middle;\n",
              "    }\n",
              "\n",
              "    .dataframe tbody tr th {\n",
              "        vertical-align: top;\n",
              "    }\n",
              "\n",
              "    .dataframe thead th {\n",
              "        text-align: right;\n",
              "    }\n",
              "</style>\n",
              "<table border=\"1\" class=\"dataframe\">\n",
              "  <thead>\n",
              "    <tr style=\"text-align: right;\">\n",
              "      <th></th>\n",
              "      <th>0</th>\n",
              "      <th>1</th>\n",
              "      <th>2</th>\n",
              "      <th>3</th>\n",
              "      <th>4</th>\n",
              "      <th>5</th>\n",
              "    </tr>\n",
              "  </thead>\n",
              "  <tbody>\n",
              "    <tr>\n",
              "      <th>0</th>\n",
              "      <td>10.0</td>\n",
              "      <td>9.0</td>\n",
              "      <td>1.0</td>\n",
              "      <td>0.126294</td>\n",
              "      <td>-0.152046</td>\n",
              "      <td>0.108980</td>\n",
              "    </tr>\n",
              "    <tr>\n",
              "      <th>1</th>\n",
              "      <td>9.0</td>\n",
              "      <td>8.0</td>\n",
              "      <td>1.0</td>\n",
              "      <td>0.126294</td>\n",
              "      <td>0.117102</td>\n",
              "      <td>-0.034944</td>\n",
              "    </tr>\n",
              "    <tr>\n",
              "      <th>2</th>\n",
              "      <td>8.0</td>\n",
              "      <td>7.0</td>\n",
              "      <td>1.0</td>\n",
              "      <td>0.112478</td>\n",
              "      <td>0.021128</td>\n",
              "      <td>0.138230</td>\n",
              "    </tr>\n",
              "  </tbody>\n",
              "</table>\n",
              "</div>"
            ],
            "text/plain": [
              "      0    1    2         3         4         5\n",
              "0  10.0  9.0  1.0  0.126294 -0.152046  0.108980\n",
              "1   9.0  8.0  1.0  0.126294  0.117102 -0.034944\n",
              "2   8.0  7.0  1.0  0.112478  0.021128  0.138230"
            ]
          },
          "metadata": {
            "tags": []
          },
          "execution_count": 160
        }
      ]
    },
    {
      "cell_type": "code",
      "metadata": {
        "id": "a8GQYNSFx6pC",
        "colab_type": "code",
        "colab": {}
      },
      "source": [
        "X_train, y_train = feats[:100, :], outcomes[:100]\n",
        "X_test, y_test   = feats[100:, :], outcomes[100:]"
      ],
      "execution_count": 0,
      "outputs": []
    },
    {
      "cell_type": "code",
      "metadata": {
        "id": "LzZbXT56x6pE",
        "colab_type": "code",
        "colab": {
          "base_uri": "https://localhost:8080/",
          "height": 547
        },
        "outputId": "0cb21b15-4ac4-4abe-e562-1b6809745bef"
      },
      "source": [
        "model = xgb.XGBRegressor(n_estimators=20, max_depth=2,\n",
        "                              random_state=21)\n",
        "eval_set = [(X_test, y_test)]\n",
        "model.fit(X_train, y_train, eval_metric=\"rmse\", eval_set=eval_set, verbose=True)"
      ],
      "execution_count": 162,
      "outputs": [
        {
          "output_type": "stream",
          "text": [
            "[07:20:51] WARNING: /workspace/src/objective/regression_obj.cu:152: reg:linear is now deprecated in favor of reg:squarederror.\n",
            "[0]\tvalidation_0-rmse:0.459744\n",
            "[1]\tvalidation_0-rmse:0.418616\n",
            "[2]\tvalidation_0-rmse:0.380625\n",
            "[3]\tvalidation_0-rmse:0.346577\n",
            "[4]\tvalidation_0-rmse:0.315931\n",
            "[5]\tvalidation_0-rmse:0.287931\n",
            "[6]\tvalidation_0-rmse:0.263988\n",
            "[7]\tvalidation_0-rmse:0.241361\n",
            "[8]\tvalidation_0-rmse:0.222136\n",
            "[9]\tvalidation_0-rmse:0.205052\n",
            "[10]\tvalidation_0-rmse:0.189806\n",
            "[11]\tvalidation_0-rmse:0.175841\n",
            "[12]\tvalidation_0-rmse:0.162495\n",
            "[13]\tvalidation_0-rmse:0.150479\n",
            "[14]\tvalidation_0-rmse:0.139907\n",
            "[15]\tvalidation_0-rmse:0.131403\n",
            "[16]\tvalidation_0-rmse:0.122909\n",
            "[17]\tvalidation_0-rmse:0.115215\n",
            "[18]\tvalidation_0-rmse:0.108389\n",
            "[19]\tvalidation_0-rmse:0.102514\n"
          ],
          "name": "stdout"
        },
        {
          "output_type": "stream",
          "text": [
            "/usr/local/lib/python3.6/dist-packages/xgboost/core.py:614: UserWarning: Use subset (sliced data) of np.ndarray is not recommended because it will generate extra copies and increase memory consumption\n",
            "  \"because it will generate extra copies and increase memory consumption\")\n"
          ],
          "name": "stderr"
        },
        {
          "output_type": "execute_result",
          "data": {
            "text/plain": [
              "XGBRegressor(base_score=0.5, booster='gbtree', colsample_bylevel=1,\n",
              "             colsample_bynode=1, colsample_bytree=1, gamma=0,\n",
              "             importance_type='gain', learning_rate=0.1, max_delta_step=0,\n",
              "             max_depth=2, min_child_weight=1, missing=None, n_estimators=20,\n",
              "             n_jobs=1, nthread=None, objective='reg:linear', random_state=21,\n",
              "             reg_alpha=0, reg_lambda=1, scale_pos_weight=1, seed=None,\n",
              "             silent=None, subsample=1, verbosity=1)"
            ]
          },
          "metadata": {
            "tags": []
          },
          "execution_count": 162
        }
      ]
    },
    {
      "cell_type": "code",
      "metadata": {
        "id": "1uW0Pas6x6pI",
        "colab_type": "code",
        "colab": {
          "base_uri": "https://localhost:8080/",
          "height": 286
        },
        "outputId": "9e57bdb2-cd7f-4a7a-851c-57a116c1e9e4"
      },
      "source": [
        "plt.scatter(model.predict(X_test), y_test)"
      ],
      "execution_count": 163,
      "outputs": [
        {
          "output_type": "execute_result",
          "data": {
            "text/plain": [
              "<matplotlib.collections.PathCollection at 0x7fac1d66af60>"
            ]
          },
          "metadata": {
            "tags": []
          },
          "execution_count": 163
        },
        {
          "output_type": "display_data",
          "data": {
            "image/png": "[encoded data removed]",
            "text/plain": [
              "<Figure size 432x288 with 1 Axes>"
            ]
          },
          "metadata": {
            "tags": [],
            "needs_background": "light"
          }
        }
      ]
    },
    {
      "cell_type": "code",
      "metadata": {
        "id": "osOFL4G5x6pK",
        "colab_type": "code",
        "colab": {
          "base_uri": "https://localhost:8080/",
          "height": 71
        },
        "outputId": "a8e5c602-3251-41da-b234-711a14cc721b"
      },
      "source": [
        "print(pearsonr(model.predict(X_test), y_test))\n",
        "print(spearmanr(model.predict(X_test), y_test))"
      ],
      "execution_count": 164,
      "outputs": [
        {
          "output_type": "stream",
          "text": [
            "(0.8295710199019659, 4.3988566454564714e-09)\n",
            "SpearmanrResult(correlation=0.8506737877812696, pvalue=7.029762268431634e-10)\n"
          ],
          "name": "stdout"
        }
      ]
    },
    {
      "cell_type": "code",
      "metadata": {
        "id": "eNSfgCGbx6pM",
        "colab_type": "code",
        "colab": {
          "base_uri": "https://localhost:8080/",
          "height": 282
        },
        "outputId": "730ac32f-87db-439a-9999-f00f211369f7"
      },
      "source": [
        "plt.scatter(model.predict(X_train), y_train)"
      ],
      "execution_count": 165,
      "outputs": [
        {
          "output_type": "execute_result",
          "data": {
            "text/plain": [
              "<matplotlib.collections.PathCollection at 0x7fac1d64bd30>"
            ]
          },
          "metadata": {
            "tags": []
          },
          "execution_count": 165
        },
        {
          "output_type": "display_data",
          "data": {
            "image/png": "[encoded data removed]",
            "text/plain": [
              "<Figure size 432x288 with 1 Axes>"
            ]
          },
          "metadata": {
            "tags": [],
            "needs_background": "light"
          }
        }
      ]
    },
    {
      "cell_type": "code",
      "metadata": {
        "id": "ZpQYFSJ-x6pS",
        "colab_type": "code",
        "colab": {
          "base_uri": "https://localhost:8080/",
          "height": 71
        },
        "outputId": "db9cd858-5b69-438f-f208-c2082710849f"
      },
      "source": [
        "print(pearsonr(model.predict(X_train), y_train))\n",
        "print(spearmanr(model.predict(X_train), y_train))"
      ],
      "execution_count": 166,
      "outputs": [
        {
          "output_type": "stream",
          "text": [
            "(0.9574312130551085, 1.1011058590058442e-54)\n",
            "SpearmanrResult(correlation=0.9608384510376272, pvalue=2.0044276644436398e-56)\n"
          ],
          "name": "stdout"
        }
      ]
    },
    {
      "cell_type": "code",
      "metadata": {
        "id": "mQZag8N4x6pU",
        "colab_type": "code",
        "colab": {}
      },
      "source": [
        ""
      ],
      "execution_count": 0,
      "outputs": []
    }
  ]
}