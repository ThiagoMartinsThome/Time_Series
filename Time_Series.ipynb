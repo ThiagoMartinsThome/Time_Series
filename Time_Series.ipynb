{
  "nbformat": 4,
  "nbformat_minor": 0,
  "metadata": {
    "colab": {
      "name": "Time_Series.ipynb",
      "provenance": [],
      "authorship_tag": "ABX9TyMFG4RW3ZdhjanLoM//P2tS",
      "include_colab_link": true
    },
    "kernelspec": {
      "name": "python3",
      "display_name": "Python 3"
    }
  },
  "cells": [
    {
      "cell_type": "markdown",
      "metadata": {
        "id": "view-in-github",
        "colab_type": "text"
      },
      "source": [
        "<a href=\"https://colab.research.google.com/github/ThiagoMartinsThome/Time_Series/blob/master/Time_Series.ipynb\" target=\"_parent\"><img src=\"https://colab.research.google.com/assets/colab-badge.svg\" alt=\"Open In Colab\"/></a>"
      ]
    },
    {
      "cell_type": "code",
      "metadata": {
        "id": "7cgchUafuE9J",
        "colab_type": "code",
        "colab": {}
      },
      "source": [
        "from google.colab import output\n",
        "\n",
        "!git clone 'https://github.com/ThiagoMartinsThome/Time_Series'\n",
        "output.clear()"
      ],
      "execution_count": 0,
      "outputs": []
    },
    {
      "cell_type": "code",
      "metadata": {
        "id": "xocfZyX858mI",
        "colab_type": "code",
        "outputId": "8765882e-05ba-4bee-fa77-d2f44db0c3fd",
        "colab": {
          "base_uri": "https://localhost:8080/",
          "height": 88
        }
      },
      "source": [
        "import numpy as np\n",
        "import pandas as pd\n",
        "import matplotlib.pyplot as plt\n",
        "\n",
        "plt.style.use(\"seaborn\")                 \n",
        "plt.rcParams[\"figure.figsize\"] = (15, 5) \n",
        "\n",
        "!pwd\n",
        "%cd /content/Time_Series/data # Set the working directory"
      ],
      "execution_count": 0,
      "outputs": [
        {
          "output_type": "stream",
          "text": [
            "/content\n",
            "[Errno 2] No such file or directory: '/content/Time_Series/data # Set the working directory'\n",
            "/content\n"
          ],
          "name": "stdout"
        }
      ]
    }
  ]
}